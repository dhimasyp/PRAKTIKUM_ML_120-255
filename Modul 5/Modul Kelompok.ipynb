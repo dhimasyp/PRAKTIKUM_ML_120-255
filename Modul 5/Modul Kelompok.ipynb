{
 "cells": [
  {
   "cell_type": "code",
   "execution_count": 1,
   "id": "ea7f8c4e",
   "metadata": {},
   "outputs": [],
   "source": [
    "import os\n",
    "import random\n",
    "import shutil\n",
    "\n",
    "import matplotlib.pyplot as plt\n",
    "import cv2\n",
    "import numpy as np\n",
    "\n",
    "from tensorflow.keras.preprocessing.image import ImageDataGenerator\n",
    "\n",
    "from tensorflow.keras.applications import VGG16, VGG19\n",
    "from tensorflow.keras.applications.resnet import ResNet101\n",
    "from tensorflow.keras.models import Model, Sequential\n",
    "from tensorflow.keras.layers import BatchNormalization, Conv2D, Dense, Dropout, Flatten, Input, MaxPool2D\n",
    "from keras.models import load_model\n",
    "\n",
    "from tensorflow.keras.optimizers import Adam\n",
    "\n",
    "import json"
   ]
  },
  {
   "cell_type": "code",
   "execution_count": 2,
   "id": "3af1af8e",
   "metadata": {},
   "outputs": [
    {
     "name": "stdout",
     "output_type": "stream",
     "text": [
      "D:\\SEMESTER 7\\MachineLearning\\Praktikum\\Modul 5\\brain-tumor\n"
     ]
    }
   ],
   "source": [
    "cd D:\\SEMESTER 7\\MachineLearning\\Praktikum\\Modul 5\\brain-tumor"
   ]
  },
  {
   "cell_type": "code",
   "execution_count": 3,
   "id": "a23a0fb0",
   "metadata": {},
   "outputs": [
    {
     "name": "stdout",
     "output_type": "stream",
     "text": [
      " Volume in drive D is Data\n",
      " Volume Serial Number is 7453-53B1\n",
      "\n",
      " Directory of D:\\SEMESTER 7\\MachineLearning\\Praktikum\\Modul 5\\brain-tumor\n",
      "\n",
      "17/12/2021  14:28    <DIR>          .\n",
      "17/12/2021  14:28    <DIR>          ..\n",
      "17/12/2021  14:27    <DIR>          1\n",
      "17/12/2021  14:28    <DIR>          2\n",
      "17/12/2021  14:28    <DIR>          3\n",
      "               0 File(s)              0 bytes\n",
      "               5 Dir(s)  33.255.096.320 bytes free\n"
     ]
    }
   ],
   "source": [
    "ls"
   ]
  },
  {
   "cell_type": "code",
   "execution_count": 6,
   "id": "12b2f162",
   "metadata": {},
   "outputs": [],
   "source": [
    "base_dir = 'D:/SEMESTER 7/MachineLearning/Praktikum/Modul 5/brain-tumor'\n",
    "\n",
    "men_dir = os.path.join(base_dir, '1')\n",
    "gli_dir = os.path.join(base_dir, '2')\n",
    "pit_dir = os.path.join(base_dir, '3')"
   ]
  },
  {
   "cell_type": "code",
   "execution_count": 7,
   "id": "b715e2db",
   "metadata": {},
   "outputs": [
    {
     "name": "stdout",
     "output_type": "stream",
     "text": [
      "Jumlah Meningioma: 708\n",
      "Jumlah Glioma: 1426\n",
      "Jumlah Pituitary: 930\n"
     ]
    }
   ],
   "source": [
    "men_data_count = len(os.listdir(men_dir))\n",
    "gli_data_count = len(os.listdir(gli_dir))\n",
    "pit_data_count = len(os.listdir(pit_dir))\n",
    "\n",
    "print(f\"Jumlah Meningioma: {men_data_count}\\nJumlah Glioma: {gli_data_count}\\nJumlah Pituitary: {pit_data_count}\")"
   ]
  },
  {
   "cell_type": "code",
   "execution_count": 8,
   "id": "55140a21",
   "metadata": {},
   "outputs": [
    {
     "name": "stdout",
     "output_type": "stream",
     "text": [
      "Data tersalin: 708\n"
     ]
    }
   ],
   "source": [
    "glioma_img = os.path.join(base_dir, '2_RES')\n",
    "gli_img_names = os.listdir(gli_dir)\n",
    "gli_img_names = random.sample(gli_img_names, men_data_count)\n",
    "count = 0\n",
    "for gli_img in gli_img_names:\n",
    "    gli_img_dir = os.path.join(gli_dir, gli_img)\n",
    "    os.makedirs(os.path.dirname(glioma_img), exist_ok=True)\n",
    "    shutil.copy(gli_img_dir, glioma_img)\n",
    "    count += 1\n",
    "print(f\"Data tersalin: {count}\")"
   ]
  },
  {
   "cell_type": "code",
   "execution_count": 13,
   "id": "61863958",
   "metadata": {},
   "outputs": [
    {
     "name": "stdout",
     "output_type": "stream",
     "text": [
      "Data tersalin: 708\n"
     ]
    }
   ],
   "source": [
    "pituitary_img = os.path.join(base_dir, '3_RES')\n",
    "pit_img_names = os.listdir(pit_dir)\n",
    "pit_img_names = random.sample(pit_img_names, men_data_count)\n",
    "count = 0\n",
    "for pit_img in pit_img_names:\n",
    "    pit_img_dir = os.path.join(pit_dir, pit_img)\n",
    "    os.makedirs(os.path.dirname(pituitary_img), exist_ok=True)\n",
    "    shutil.copy(pit_img_dir, pituitary_img)\n",
    "    count += 1\n",
    "print(f\"Data tersalin: {count}\")"
   ]
  },
  {
   "cell_type": "code",
   "execution_count": 14,
   "id": "160364d2",
   "metadata": {},
   "outputs": [
    {
     "name": "stdout",
     "output_type": "stream",
     "text": [
      "Jumlah Meningioma: 708\n",
      "Jumlah Glioma: 708\n",
      "Jumlah Pituitary: 708\n"
     ]
    }
   ],
   "source": [
    "res_gli_dir = os.path.join(base_dir, '2_RES')\n",
    "res_pit_dir = os.path.join(base_dir, '3_RES')\n",
    "res_gli_data = len(os.listdir(res_gli_dir))\n",
    "res_pit_data = len(os.listdir(res_pit_dir))\n",
    "print(f\"Jumlah Meningioma: {men_data_count}\\nJumlah Glioma: {res_gli_data}\\nJumlah Pituitary: {res_pit_data}\")"
   ]
  },
  {
   "cell_type": "code",
   "execution_count": 15,
   "id": "66cc8afe",
   "metadata": {},
   "outputs": [
    {
     "name": "stderr",
     "output_type": "stream",
     "text": [
      "Copying files: 4480 files [00:19, 230.25 files/s]\n"
     ]
    }
   ],
   "source": [
    "import splitfolders\n",
    "base_dir=\"D:/SEMESTER 7/MachineLearning/Praktikum/Modul 5/brain-tumor\"\n",
    "data_dir=\"D:/SEMESTER 7/MachineLearning/Praktikum/Modul 5/brain-tumor-splitted\"\n",
    "splitfolders.ratio(base_dir, output=data_dir, seed=1337, ratio=(.8 ,0.19 ,0.01),group_prefix=None)"
   ]
  },
  {
   "cell_type": "code",
   "execution_count": 16,
   "id": "a8ada432",
   "metadata": {},
   "outputs": [],
   "source": [
    "base_dir = 'D:/SEMESTER 7/MachineLearning/Praktikum/Modul 5/brain-tumor-splitted'\n",
    "train_dir = os.path.join(base_dir, 'train')\n",
    "validation_dir = os.path.join(base_dir, 'val')\n",
    "test_dir = os.path.join(base_dir, 'test')\n",
    "\n",
    "train_men_dir = os.path.join(train_dir, '1')\n",
    "train_gli_dir = os.path.join(train_dir, '2_RES')\n",
    "train_pit_dir = os.path.join(train_dir, '3_RES')\n",
    "\n",
    "validation_men_dir = os.path.join(validation_dir, '1')\n",
    "validation_gli_dir = os.path.join(validation_dir, '2_RES')\n",
    "validation_pit_dir = os.path.join(validation_dir, '3_RES')\n",
    "\n",
    "test_men_dir = os.path.join(test_dir, '1')\n",
    "test_gli_dir = os.path.join(test_dir, '2_RES')\n",
    "test_pit_dir = os.path.join(test_dir, '3_RES')"
   ]
  },
  {
   "cell_type": "code",
   "execution_count": 18,
   "id": "a4b9bede",
   "metadata": {},
   "outputs": [
    {
     "name": "stdout",
     "output_type": "stream",
     "text": [
      "Total Training MENINGIOMA: 566\n",
      "Total Training GLIOMA: 566\n",
      "Total Training PITUITARY: 566\n",
      "------------------------------\n",
      "Total validation MENINGIOMA: 134\n",
      "Total validation GLIOMA: 134\n",
      "Total validation PITUITARY: 134\n",
      "------------------------------\n",
      "Total Testing MENINGIOMA: 8\n",
      "Total Testing GLIOMA: 8\n",
      "Total Testing PITUITARY: 8\n"
     ]
    }
   ],
   "source": [
    "print(\"Total Training MENINGIOMA:\", len(os.listdir(train_men_dir)))\n",
    "print(\"Total Training GLIOMA:\", len(os.listdir(train_gli_dir)))\n",
    "print(\"Total Training PITUITARY:\", len(os.listdir(train_pit_dir)))\n",
    "print('-'*30)\n",
    "print(\"Total validation MENINGIOMA:\", len(os.listdir(validation_men_dir)))\n",
    "print(\"Total validation GLIOMA:\", len(os.listdir(validation_gli_dir)))\n",
    "print(\"Total validation PITUITARY:\", len(os.listdir(validation_pit_dir)))\n",
    "print('-'*30)\n",
    "print(\"Total Testing MENINGIOMA:\", len(os.listdir(test_men_dir)))\n",
    "print(\"Total Testing GLIOMA:\", len(os.listdir(test_gli_dir)))\n",
    "print(\"Total Testing PITUITARY:\", len(os.listdir(test_pit_dir)))"
   ]
  },
  {
   "cell_type": "code",
   "execution_count": 19,
   "id": "7f737553",
   "metadata": {},
   "outputs": [
    {
     "name": "stdout",
     "output_type": "stream",
     "text": [
      "Found 1698 images belonging to 3 classes.\n",
      "Found 402 images belonging to 3 classes.\n",
      "Found 24 images belonging to 3 classes.\n"
     ]
    }
   ],
   "source": [
    "TRAINING_DIR = \"D:/SEMESTER 7/MachineLearning/Praktikum/Modul 5/brain-tumor-splitted/train\"\n",
    "VALIDATION_DIR = \"D:/SEMESTER 7/MachineLearning/Praktikum/Modul 5/brain-tumor-splitted/val\"\n",
    "TEST_DIR = \"D:/SEMESTER 7/MachineLearning/Praktikum/Modul 5/brain-tumor-splitted/test\"\n",
    "\n",
    "datagen = ImageDataGenerator(rescale= 0)\n",
    "\n",
    "train_gen = datagen.flow_from_directory(\n",
    "    TRAINING_DIR,\n",
    "    target_size=(150,150),\n",
    "    shuffle=False,\n",
    "    class_mode='categorical',\n",
    "    batch_size = 32\n",
    ")\n",
    "\n",
    "val_gen = datagen.flow_from_directory(\n",
    "    VALIDATION_DIR,\n",
    "    target_size=(150,150),\n",
    "    shuffle=False,\n",
    "    class_mode='categorical',\n",
    "    batch_size = 32\n",
    ")\n",
    "\n",
    "test_gen = datagen.flow_from_directory(\n",
    "    TEST_DIR,\n",
    "    target_size=(150,150),\n",
    "    shuffle=False,\n",
    "    class_mode='categorical',\n",
    "    batch_size = 32\n",
    ")"
   ]
  },
  {
   "cell_type": "code",
   "execution_count": 20,
   "id": "c4688200",
   "metadata": {},
   "outputs": [],
   "source": [
    "vgg19_base = VGG19(\n",
    "    include_top=False,\n",
    "    input_shape=(150, 150, 3)\n",
    "    )\n",
    "\n",
    "for layer in vgg19_base.layers:\n",
    "    layer.trainable = False\n",
    "    layer._name = layer._name + str('_19')"
   ]
  },
  {
   "cell_type": "code",
   "execution_count": 30,
   "id": "f088bfd8",
   "metadata": {},
   "outputs": [
    {
     "name": "stdout",
     "output_type": "stream",
     "text": [
      "Model: \"model_3\"\n",
      "_________________________________________________________________\n",
      " Layer (type)                Output Shape              Param #   \n",
      "=================================================================\n",
      " input_5 (InputLayer)        [(None, 150, 150, 3)]     0         \n",
      "                                                                 \n",
      " vgg19 (Functional)          (None, 4, 4, 512)         20024384  \n",
      "                                                                 \n",
      " flatten_3 (Flatten)         (None, 8192)              0         \n",
      "                                                                 \n",
      " dense_9 (Dense)             (None, 128)               1048704   \n",
      "                                                                 \n",
      " dropout_6 (Dropout)         (None, 128)               0         \n",
      "                                                                 \n",
      " dense_10 (Dense)            (None, 32)                4128      \n",
      "                                                                 \n",
      " dropout_7 (Dropout)         (None, 32)                0         \n",
      "                                                                 \n",
      " dense_11 (Dense)            (None, 3)                 99        \n",
      "                                                                 \n",
      "=================================================================\n",
      "Total params: 21,077,315\n",
      "Trainable params: 1,052,931\n",
      "Non-trainable params: 20,024,384\n",
      "_________________________________________________________________\n",
      "None\n"
     ]
    }
   ],
   "source": [
    "input_layer = Input((150, 150, 3))\n",
    "\n",
    "fc_layer = Flatten()(vgg19_base(input_layer))\n",
    "fc_layer = Dense(128, activation='relu')(fc_layer)\n",
    "fc_layer = Dropout(0.5)(fc_layer)\n",
    "fc_layer = Dense(32, activation='relu')(fc_layer)\n",
    "fc_layer = Dropout(0.2)(fc_layer)\n",
    "\n",
    "output_layer = Dense(3, activation='softmax')(fc_layer)\n",
    "\n",
    "model = Model(input_layer, output_layer)\n",
    "print(model.summary())"
   ]
  },
  {
   "cell_type": "code",
   "execution_count": 31,
   "id": "e08e3c0a",
   "metadata": {},
   "outputs": [],
   "source": [
    "model.compile(optimizer=Adam(learning_rate=0.001,), \n",
    "              loss='categorical_crossentropy', \n",
    "              metrics=['acc'])"
   ]
  },
  {
   "cell_type": "code",
   "execution_count": 32,
   "id": "d7116e04",
   "metadata": {},
   "outputs": [],
   "source": [
    "from tensorflow.keras.callbacks import EarlyStopping, ModelCheckpoint\n",
    "\n",
    "early_stop_val_acc = EarlyStopping(monitor='val_accuracy',\n",
    "                          patience=5,\n",
    "                          verbose=1,\n",
    "                          mode='auto'\n",
    "                          )"
   ]
  },
  {
   "cell_type": "code",
   "execution_count": 33,
   "id": "d899b089",
   "metadata": {},
   "outputs": [
    {
     "name": "stdout",
     "output_type": "stream",
     "text": [
      "Epoch 1/150\n",
      "54/54 [==============================] - ETA: 0s - loss: 9.7841 - acc: 0.4452WARNING:tensorflow:Early stopping conditioned on metric `val_accuracy` which is not available. Available metrics are: loss,acc,val_loss,val_acc\n",
      "54/54 [==============================] - 47s 846ms/step - loss: 9.7841 - acc: 0.4452 - val_loss: 0.9803 - val_acc: 0.7189\n",
      "Epoch 2/150\n",
      "10/54 [====>.........................] - ETA: 20s - loss: 2.5863 - acc: 0.5344"
     ]
    },
    {
     "ename": "KeyboardInterrupt",
     "evalue": "",
     "output_type": "error",
     "traceback": [
      "\u001b[1;31m---------------------------------------------------------------------------\u001b[0m",
      "\u001b[1;31mKeyboardInterrupt\u001b[0m                         Traceback (most recent call last)",
      "\u001b[1;32mC:\\Users\\DKID~1\\AppData\\Local\\Temp/ipykernel_2336/3989320634.py\u001b[0m in \u001b[0;36m<module>\u001b[1;34m\u001b[0m\n\u001b[1;32m----> 1\u001b[1;33m H = model.fit(train_gen,\n\u001b[0m\u001b[0;32m      2\u001b[0m               \u001b[0mvalidation_data\u001b[0m\u001b[1;33m=\u001b[0m\u001b[0mval_gen\u001b[0m\u001b[1;33m,\u001b[0m\u001b[1;33m\u001b[0m\u001b[1;33m\u001b[0m\u001b[0m\n\u001b[0;32m      3\u001b[0m               \u001b[0mepochs\u001b[0m\u001b[1;33m=\u001b[0m\u001b[1;36m150\u001b[0m\u001b[1;33m,\u001b[0m\u001b[1;33m\u001b[0m\u001b[1;33m\u001b[0m\u001b[0m\n\u001b[0;32m      4\u001b[0m               \u001b[0mverbose\u001b[0m\u001b[1;33m=\u001b[0m\u001b[1;36m1\u001b[0m\u001b[1;33m,\u001b[0m\u001b[1;33m\u001b[0m\u001b[1;33m\u001b[0m\u001b[0m\n\u001b[0;32m      5\u001b[0m              callbacks=early_stop_val_acc)\n",
      "\u001b[1;32m~\\AppData\\Local\\Programs\\Python\\Python39\\lib\\site-packages\\keras\\utils\\traceback_utils.py\u001b[0m in \u001b[0;36merror_handler\u001b[1;34m(*args, **kwargs)\u001b[0m\n\u001b[0;32m     62\u001b[0m     \u001b[0mfiltered_tb\u001b[0m \u001b[1;33m=\u001b[0m \u001b[1;32mNone\u001b[0m\u001b[1;33m\u001b[0m\u001b[1;33m\u001b[0m\u001b[0m\n\u001b[0;32m     63\u001b[0m     \u001b[1;32mtry\u001b[0m\u001b[1;33m:\u001b[0m\u001b[1;33m\u001b[0m\u001b[1;33m\u001b[0m\u001b[0m\n\u001b[1;32m---> 64\u001b[1;33m       \u001b[1;32mreturn\u001b[0m \u001b[0mfn\u001b[0m\u001b[1;33m(\u001b[0m\u001b[1;33m*\u001b[0m\u001b[0margs\u001b[0m\u001b[1;33m,\u001b[0m \u001b[1;33m**\u001b[0m\u001b[0mkwargs\u001b[0m\u001b[1;33m)\u001b[0m\u001b[1;33m\u001b[0m\u001b[1;33m\u001b[0m\u001b[0m\n\u001b[0m\u001b[0;32m     65\u001b[0m     \u001b[1;32mexcept\u001b[0m \u001b[0mException\u001b[0m \u001b[1;32mas\u001b[0m \u001b[0me\u001b[0m\u001b[1;33m:\u001b[0m  \u001b[1;31m# pylint: disable=broad-except\u001b[0m\u001b[1;33m\u001b[0m\u001b[1;33m\u001b[0m\u001b[0m\n\u001b[0;32m     66\u001b[0m       \u001b[0mfiltered_tb\u001b[0m \u001b[1;33m=\u001b[0m \u001b[0m_process_traceback_frames\u001b[0m\u001b[1;33m(\u001b[0m\u001b[0me\u001b[0m\u001b[1;33m.\u001b[0m\u001b[0m__traceback__\u001b[0m\u001b[1;33m)\u001b[0m\u001b[1;33m\u001b[0m\u001b[1;33m\u001b[0m\u001b[0m\n",
      "\u001b[1;32m~\\AppData\\Local\\Programs\\Python\\Python39\\lib\\site-packages\\keras\\engine\\training.py\u001b[0m in \u001b[0;36mfit\u001b[1;34m(self, x, y, batch_size, epochs, verbose, callbacks, validation_split, validation_data, shuffle, class_weight, sample_weight, initial_epoch, steps_per_epoch, validation_steps, validation_batch_size, validation_freq, max_queue_size, workers, use_multiprocessing)\u001b[0m\n\u001b[0;32m   1214\u001b[0m                 _r=1):\n\u001b[0;32m   1215\u001b[0m               \u001b[0mcallbacks\u001b[0m\u001b[1;33m.\u001b[0m\u001b[0mon_train_batch_begin\u001b[0m\u001b[1;33m(\u001b[0m\u001b[0mstep\u001b[0m\u001b[1;33m)\u001b[0m\u001b[1;33m\u001b[0m\u001b[1;33m\u001b[0m\u001b[0m\n\u001b[1;32m-> 1216\u001b[1;33m               \u001b[0mtmp_logs\u001b[0m \u001b[1;33m=\u001b[0m \u001b[0mself\u001b[0m\u001b[1;33m.\u001b[0m\u001b[0mtrain_function\u001b[0m\u001b[1;33m(\u001b[0m\u001b[0miterator\u001b[0m\u001b[1;33m)\u001b[0m\u001b[1;33m\u001b[0m\u001b[1;33m\u001b[0m\u001b[0m\n\u001b[0m\u001b[0;32m   1217\u001b[0m               \u001b[1;32mif\u001b[0m \u001b[0mdata_handler\u001b[0m\u001b[1;33m.\u001b[0m\u001b[0mshould_sync\u001b[0m\u001b[1;33m:\u001b[0m\u001b[1;33m\u001b[0m\u001b[1;33m\u001b[0m\u001b[0m\n\u001b[0;32m   1218\u001b[0m                 \u001b[0mcontext\u001b[0m\u001b[1;33m.\u001b[0m\u001b[0masync_wait\u001b[0m\u001b[1;33m(\u001b[0m\u001b[1;33m)\u001b[0m\u001b[1;33m\u001b[0m\u001b[1;33m\u001b[0m\u001b[0m\n",
      "\u001b[1;32m~\\AppData\\Local\\Programs\\Python\\Python39\\lib\\site-packages\\tensorflow\\python\\util\\traceback_utils.py\u001b[0m in \u001b[0;36merror_handler\u001b[1;34m(*args, **kwargs)\u001b[0m\n\u001b[0;32m    148\u001b[0m     \u001b[0mfiltered_tb\u001b[0m \u001b[1;33m=\u001b[0m \u001b[1;32mNone\u001b[0m\u001b[1;33m\u001b[0m\u001b[1;33m\u001b[0m\u001b[0m\n\u001b[0;32m    149\u001b[0m     \u001b[1;32mtry\u001b[0m\u001b[1;33m:\u001b[0m\u001b[1;33m\u001b[0m\u001b[1;33m\u001b[0m\u001b[0m\n\u001b[1;32m--> 150\u001b[1;33m       \u001b[1;32mreturn\u001b[0m \u001b[0mfn\u001b[0m\u001b[1;33m(\u001b[0m\u001b[1;33m*\u001b[0m\u001b[0margs\u001b[0m\u001b[1;33m,\u001b[0m \u001b[1;33m**\u001b[0m\u001b[0mkwargs\u001b[0m\u001b[1;33m)\u001b[0m\u001b[1;33m\u001b[0m\u001b[1;33m\u001b[0m\u001b[0m\n\u001b[0m\u001b[0;32m    151\u001b[0m     \u001b[1;32mexcept\u001b[0m \u001b[0mException\u001b[0m \u001b[1;32mas\u001b[0m \u001b[0me\u001b[0m\u001b[1;33m:\u001b[0m\u001b[1;33m\u001b[0m\u001b[1;33m\u001b[0m\u001b[0m\n\u001b[0;32m    152\u001b[0m       \u001b[0mfiltered_tb\u001b[0m \u001b[1;33m=\u001b[0m \u001b[0m_process_traceback_frames\u001b[0m\u001b[1;33m(\u001b[0m\u001b[0me\u001b[0m\u001b[1;33m.\u001b[0m\u001b[0m__traceback__\u001b[0m\u001b[1;33m)\u001b[0m\u001b[1;33m\u001b[0m\u001b[1;33m\u001b[0m\u001b[0m\n",
      "\u001b[1;32m~\\AppData\\Local\\Programs\\Python\\Python39\\lib\\site-packages\\tensorflow\\python\\eager\\def_function.py\u001b[0m in \u001b[0;36m__call__\u001b[1;34m(self, *args, **kwds)\u001b[0m\n\u001b[0;32m    908\u001b[0m \u001b[1;33m\u001b[0m\u001b[0m\n\u001b[0;32m    909\u001b[0m       \u001b[1;32mwith\u001b[0m \u001b[0mOptionalXlaContext\u001b[0m\u001b[1;33m(\u001b[0m\u001b[0mself\u001b[0m\u001b[1;33m.\u001b[0m\u001b[0m_jit_compile\u001b[0m\u001b[1;33m)\u001b[0m\u001b[1;33m:\u001b[0m\u001b[1;33m\u001b[0m\u001b[1;33m\u001b[0m\u001b[0m\n\u001b[1;32m--> 910\u001b[1;33m         \u001b[0mresult\u001b[0m \u001b[1;33m=\u001b[0m \u001b[0mself\u001b[0m\u001b[1;33m.\u001b[0m\u001b[0m_call\u001b[0m\u001b[1;33m(\u001b[0m\u001b[1;33m*\u001b[0m\u001b[0margs\u001b[0m\u001b[1;33m,\u001b[0m \u001b[1;33m**\u001b[0m\u001b[0mkwds\u001b[0m\u001b[1;33m)\u001b[0m\u001b[1;33m\u001b[0m\u001b[1;33m\u001b[0m\u001b[0m\n\u001b[0m\u001b[0;32m    911\u001b[0m \u001b[1;33m\u001b[0m\u001b[0m\n\u001b[0;32m    912\u001b[0m       \u001b[0mnew_tracing_count\u001b[0m \u001b[1;33m=\u001b[0m \u001b[0mself\u001b[0m\u001b[1;33m.\u001b[0m\u001b[0mexperimental_get_tracing_count\u001b[0m\u001b[1;33m(\u001b[0m\u001b[1;33m)\u001b[0m\u001b[1;33m\u001b[0m\u001b[1;33m\u001b[0m\u001b[0m\n",
      "\u001b[1;32m~\\AppData\\Local\\Programs\\Python\\Python39\\lib\\site-packages\\tensorflow\\python\\eager\\def_function.py\u001b[0m in \u001b[0;36m_call\u001b[1;34m(self, *args, **kwds)\u001b[0m\n\u001b[0;32m    940\u001b[0m       \u001b[1;31m# In this case we have created variables on the first call, so we run the\u001b[0m\u001b[1;33m\u001b[0m\u001b[1;33m\u001b[0m\u001b[0m\n\u001b[0;32m    941\u001b[0m       \u001b[1;31m# defunned version which is guaranteed to never create variables.\u001b[0m\u001b[1;33m\u001b[0m\u001b[1;33m\u001b[0m\u001b[0m\n\u001b[1;32m--> 942\u001b[1;33m       \u001b[1;32mreturn\u001b[0m \u001b[0mself\u001b[0m\u001b[1;33m.\u001b[0m\u001b[0m_stateless_fn\u001b[0m\u001b[1;33m(\u001b[0m\u001b[1;33m*\u001b[0m\u001b[0margs\u001b[0m\u001b[1;33m,\u001b[0m \u001b[1;33m**\u001b[0m\u001b[0mkwds\u001b[0m\u001b[1;33m)\u001b[0m  \u001b[1;31m# pylint: disable=not-callable\u001b[0m\u001b[1;33m\u001b[0m\u001b[1;33m\u001b[0m\u001b[0m\n\u001b[0m\u001b[0;32m    943\u001b[0m     \u001b[1;32melif\u001b[0m \u001b[0mself\u001b[0m\u001b[1;33m.\u001b[0m\u001b[0m_stateful_fn\u001b[0m \u001b[1;32mis\u001b[0m \u001b[1;32mnot\u001b[0m \u001b[1;32mNone\u001b[0m\u001b[1;33m:\u001b[0m\u001b[1;33m\u001b[0m\u001b[1;33m\u001b[0m\u001b[0m\n\u001b[0;32m    944\u001b[0m       \u001b[1;31m# Release the lock early so that multiple threads can perform the call\u001b[0m\u001b[1;33m\u001b[0m\u001b[1;33m\u001b[0m\u001b[0m\n",
      "\u001b[1;32m~\\AppData\\Local\\Programs\\Python\\Python39\\lib\\site-packages\\tensorflow\\python\\eager\\function.py\u001b[0m in \u001b[0;36m__call__\u001b[1;34m(self, *args, **kwargs)\u001b[0m\n\u001b[0;32m   3128\u001b[0m       (graph_function,\n\u001b[0;32m   3129\u001b[0m        filtered_flat_args) = self._maybe_define_function(args, kwargs)\n\u001b[1;32m-> 3130\u001b[1;33m     return graph_function._call_flat(\n\u001b[0m\u001b[0;32m   3131\u001b[0m         filtered_flat_args, captured_inputs=graph_function.captured_inputs)  # pylint: disable=protected-access\n\u001b[0;32m   3132\u001b[0m \u001b[1;33m\u001b[0m\u001b[0m\n",
      "\u001b[1;32m~\\AppData\\Local\\Programs\\Python\\Python39\\lib\\site-packages\\tensorflow\\python\\eager\\function.py\u001b[0m in \u001b[0;36m_call_flat\u001b[1;34m(self, args, captured_inputs, cancellation_manager)\u001b[0m\n\u001b[0;32m   1957\u001b[0m         and executing_eagerly):\n\u001b[0;32m   1958\u001b[0m       \u001b[1;31m# No tape is watching; skip to running the function.\u001b[0m\u001b[1;33m\u001b[0m\u001b[1;33m\u001b[0m\u001b[0m\n\u001b[1;32m-> 1959\u001b[1;33m       return self._build_call_outputs(self._inference_function.call(\n\u001b[0m\u001b[0;32m   1960\u001b[0m           ctx, args, cancellation_manager=cancellation_manager))\n\u001b[0;32m   1961\u001b[0m     forward_backward = self._select_forward_and_backward_functions(\n",
      "\u001b[1;32m~\\AppData\\Local\\Programs\\Python\\Python39\\lib\\site-packages\\tensorflow\\python\\eager\\function.py\u001b[0m in \u001b[0;36mcall\u001b[1;34m(self, ctx, args, cancellation_manager)\u001b[0m\n\u001b[0;32m    596\u001b[0m       \u001b[1;32mwith\u001b[0m \u001b[0m_InterpolateFunctionError\u001b[0m\u001b[1;33m(\u001b[0m\u001b[0mself\u001b[0m\u001b[1;33m)\u001b[0m\u001b[1;33m:\u001b[0m\u001b[1;33m\u001b[0m\u001b[1;33m\u001b[0m\u001b[0m\n\u001b[0;32m    597\u001b[0m         \u001b[1;32mif\u001b[0m \u001b[0mcancellation_manager\u001b[0m \u001b[1;32mis\u001b[0m \u001b[1;32mNone\u001b[0m\u001b[1;33m:\u001b[0m\u001b[1;33m\u001b[0m\u001b[1;33m\u001b[0m\u001b[0m\n\u001b[1;32m--> 598\u001b[1;33m           outputs = execute.execute(\n\u001b[0m\u001b[0;32m    599\u001b[0m               \u001b[0mstr\u001b[0m\u001b[1;33m(\u001b[0m\u001b[0mself\u001b[0m\u001b[1;33m.\u001b[0m\u001b[0msignature\u001b[0m\u001b[1;33m.\u001b[0m\u001b[0mname\u001b[0m\u001b[1;33m)\u001b[0m\u001b[1;33m,\u001b[0m\u001b[1;33m\u001b[0m\u001b[1;33m\u001b[0m\u001b[0m\n\u001b[0;32m    600\u001b[0m               \u001b[0mnum_outputs\u001b[0m\u001b[1;33m=\u001b[0m\u001b[0mself\u001b[0m\u001b[1;33m.\u001b[0m\u001b[0m_num_outputs\u001b[0m\u001b[1;33m,\u001b[0m\u001b[1;33m\u001b[0m\u001b[1;33m\u001b[0m\u001b[0m\n",
      "\u001b[1;32m~\\AppData\\Local\\Programs\\Python\\Python39\\lib\\site-packages\\tensorflow\\python\\eager\\execute.py\u001b[0m in \u001b[0;36mquick_execute\u001b[1;34m(op_name, num_outputs, inputs, attrs, ctx, name)\u001b[0m\n\u001b[0;32m     56\u001b[0m   \u001b[1;32mtry\u001b[0m\u001b[1;33m:\u001b[0m\u001b[1;33m\u001b[0m\u001b[1;33m\u001b[0m\u001b[0m\n\u001b[0;32m     57\u001b[0m     \u001b[0mctx\u001b[0m\u001b[1;33m.\u001b[0m\u001b[0mensure_initialized\u001b[0m\u001b[1;33m(\u001b[0m\u001b[1;33m)\u001b[0m\u001b[1;33m\u001b[0m\u001b[1;33m\u001b[0m\u001b[0m\n\u001b[1;32m---> 58\u001b[1;33m     tensors = pywrap_tfe.TFE_Py_Execute(ctx._handle, device_name, op_name,\n\u001b[0m\u001b[0;32m     59\u001b[0m                                         inputs, attrs, num_outputs)\n\u001b[0;32m     60\u001b[0m   \u001b[1;32mexcept\u001b[0m \u001b[0mcore\u001b[0m\u001b[1;33m.\u001b[0m\u001b[0m_NotOkStatusException\u001b[0m \u001b[1;32mas\u001b[0m \u001b[0me\u001b[0m\u001b[1;33m:\u001b[0m\u001b[1;33m\u001b[0m\u001b[1;33m\u001b[0m\u001b[0m\n",
      "\u001b[1;31mKeyboardInterrupt\u001b[0m: "
     ]
    }
   ],
   "source": [
    "H = model.fit(train_gen,\n",
    "              validation_data=val_gen,\n",
    "              epochs=150,\n",
    "              verbose=1,\n",
    "             callbacks=early_stop_val_acc)"
   ]
  },
  {
   "cell_type": "code",
   "execution_count": 34,
   "id": "89e5e64e",
   "metadata": {},
   "outputs": [
    {
     "name": "stdout",
     "output_type": "stream",
     "text": [
      "Epoch 1/150\n",
      "54/54 [==============================] - 31s 580ms/step - loss: 1.2121 - acc: 0.4817 - val_loss: 0.6318 - val_acc: 0.7438\n",
      "Epoch 2/150\n",
      "54/54 [==============================] - 32s 589ms/step - loss: 0.9135 - acc: 0.5830 - val_loss: 0.7308 - val_acc: 0.6915\n",
      "Epoch 3/150\n",
      "54/54 [==============================] - 32s 589ms/step - loss: 0.8796 - acc: 0.5954 - val_loss: 0.6115 - val_acc: 0.7488\n",
      "Epoch 4/150\n",
      "54/54 [==============================] - 30s 560ms/step - loss: 0.8369 - acc: 0.6290 - val_loss: 0.6632 - val_acc: 0.7836\n",
      "Epoch 5/150\n",
      "54/54 [==============================] - 19s 355ms/step - loss: 0.7535 - acc: 0.6667 - val_loss: 0.5214 - val_acc: 0.8035\n",
      "Epoch 6/150\n",
      "54/54 [==============================] - 19s 359ms/step - loss: 0.7009 - acc: 0.7079 - val_loss: 0.5617 - val_acc: 0.8060\n",
      "Epoch 7/150\n",
      "54/54 [==============================] - 19s 360ms/step - loss: 0.7055 - acc: 0.6808 - val_loss: 0.5010 - val_acc: 0.8383\n",
      "Epoch 8/150\n",
      "54/54 [==============================] - 20s 364ms/step - loss: 0.6435 - acc: 0.7267 - val_loss: 0.5141 - val_acc: 0.8458\n",
      "Epoch 9/150\n",
      "54/54 [==============================] - 20s 365ms/step - loss: 0.6123 - acc: 0.7638 - val_loss: 0.5038 - val_acc: 0.8308\n",
      "Epoch 10/150\n",
      "54/54 [==============================] - 20s 370ms/step - loss: 0.6723 - acc: 0.6843 - val_loss: 0.4905 - val_acc: 0.8532\n",
      "Epoch 11/150\n",
      "54/54 [==============================] - 20s 368ms/step - loss: 0.6228 - acc: 0.7161 - val_loss: 0.4573 - val_acc: 0.8433\n",
      "Epoch 12/150\n",
      "54/54 [==============================] - 20s 374ms/step - loss: 0.5943 - acc: 0.7267 - val_loss: 0.5867 - val_acc: 0.7736\n",
      "Epoch 13/150\n",
      "54/54 [==============================] - 20s 376ms/step - loss: 0.6139 - acc: 0.7179 - val_loss: 0.4547 - val_acc: 0.8657\n",
      "Epoch 14/150\n",
      "54/54 [==============================] - 20s 372ms/step - loss: 0.6165 - acc: 0.7250 - val_loss: 0.5242 - val_acc: 0.8458\n",
      "Epoch 15/150\n",
      "54/54 [==============================] - 20s 373ms/step - loss: 0.5507 - acc: 0.7833 - val_loss: 0.4553 - val_acc: 0.8483\n",
      "Epoch 16/150\n",
      "54/54 [==============================] - 20s 376ms/step - loss: 0.5674 - acc: 0.7680 - val_loss: 0.4858 - val_acc: 0.8507\n",
      "Epoch 17/150\n",
      "54/54 [==============================] - 21s 380ms/step - loss: 0.5128 - acc: 0.7880 - val_loss: 0.4642 - val_acc: 0.8557\n",
      "Epoch 18/150\n",
      "54/54 [==============================] - 20s 377ms/step - loss: 0.5126 - acc: 0.7697 - val_loss: 0.4619 - val_acc: 0.8756\n",
      "Epoch 19/150\n",
      "54/54 [==============================] - 21s 378ms/step - loss: 0.5019 - acc: 0.7774 - val_loss: 0.3843 - val_acc: 0.8856\n",
      "Epoch 20/150\n",
      "54/54 [==============================] - 21s 381ms/step - loss: 0.4455 - acc: 0.8015 - val_loss: 0.4773 - val_acc: 0.8483\n",
      "Epoch 21/150\n",
      "54/54 [==============================] - 20s 376ms/step - loss: 0.4633 - acc: 0.7845 - val_loss: 0.4356 - val_acc: 0.8682\n",
      "Epoch 22/150\n",
      "54/54 [==============================] - 20s 377ms/step - loss: 0.5402 - acc: 0.7356 - val_loss: 0.4716 - val_acc: 0.8682\n",
      "Epoch 23/150\n",
      "54/54 [==============================] - 20s 378ms/step - loss: 0.5311 - acc: 0.7768 - val_loss: 0.3970 - val_acc: 0.8756\n",
      "Epoch 24/150\n",
      "54/54 [==============================] - 21s 383ms/step - loss: 0.4147 - acc: 0.8257 - val_loss: 0.3932 - val_acc: 0.8731\n",
      "Epoch 25/150\n",
      "54/54 [==============================] - 20s 378ms/step - loss: 0.4449 - acc: 0.8151 - val_loss: 0.4347 - val_acc: 0.8781\n",
      "Epoch 26/150\n",
      "54/54 [==============================] - 21s 384ms/step - loss: 0.4279 - acc: 0.8163 - val_loss: 0.4133 - val_acc: 0.8881\n",
      "Epoch 27/150\n",
      "54/54 [==============================] - 21s 380ms/step - loss: 0.4017 - acc: 0.8286 - val_loss: 0.3861 - val_acc: 0.8881\n",
      "Epoch 28/150\n",
      "54/54 [==============================] - 21s 382ms/step - loss: 0.4195 - acc: 0.8233 - val_loss: 0.4173 - val_acc: 0.8881\n",
      "Epoch 29/150\n",
      "54/54 [==============================] - 21s 380ms/step - loss: 0.3592 - acc: 0.8457 - val_loss: 0.4759 - val_acc: 0.8831\n",
      "Epoch 30/150\n",
      "54/54 [==============================] - 21s 380ms/step - loss: 0.4261 - acc: 0.8104 - val_loss: 0.4295 - val_acc: 0.8856\n",
      "Epoch 31/150\n",
      "54/54 [==============================] - 21s 380ms/step - loss: 0.3931 - acc: 0.8257 - val_loss: 0.4408 - val_acc: 0.8881\n",
      "Epoch 32/150\n",
      "54/54 [==============================] - 21s 384ms/step - loss: 0.4036 - acc: 0.8163 - val_loss: 0.4160 - val_acc: 0.8881\n",
      "Epoch 33/150\n",
      "54/54 [==============================] - 21s 382ms/step - loss: 0.3860 - acc: 0.8357 - val_loss: 0.4199 - val_acc: 0.8930\n",
      "Epoch 34/150\n",
      "54/54 [==============================] - 21s 381ms/step - loss: 0.3655 - acc: 0.8475 - val_loss: 0.4401 - val_acc: 0.8955\n",
      "Epoch 35/150\n",
      "54/54 [==============================] - 21s 383ms/step - loss: 0.4093 - acc: 0.8227 - val_loss: 0.4598 - val_acc: 0.8955\n",
      "Epoch 36/150\n",
      "54/54 [==============================] - 21s 382ms/step - loss: 0.4064 - acc: 0.8316 - val_loss: 0.4538 - val_acc: 0.8781\n",
      "Epoch 37/150\n",
      "54/54 [==============================] - 21s 383ms/step - loss: 0.3977 - acc: 0.8392 - val_loss: 0.4732 - val_acc: 0.8930\n",
      "Epoch 38/150\n",
      "54/54 [==============================] - 21s 380ms/step - loss: 0.3774 - acc: 0.8386 - val_loss: 0.3910 - val_acc: 0.8881\n",
      "Epoch 39/150\n",
      "54/54 [==============================] - 21s 382ms/step - loss: 0.3843 - acc: 0.8280 - val_loss: 0.4130 - val_acc: 0.8930\n",
      "Epoch 40/150\n",
      "54/54 [==============================] - 21s 378ms/step - loss: 0.4035 - acc: 0.8227 - val_loss: 0.3862 - val_acc: 0.8756\n",
      "Epoch 41/150\n",
      "54/54 [==============================] - 21s 384ms/step - loss: 0.3654 - acc: 0.8322 - val_loss: 0.3915 - val_acc: 0.8980\n",
      "Epoch 42/150\n",
      "54/54 [==============================] - 21s 384ms/step - loss: 0.3650 - acc: 0.8333 - val_loss: 0.4485 - val_acc: 0.8881\n",
      "Epoch 43/150\n",
      "54/54 [==============================] - 21s 383ms/step - loss: 0.4019 - acc: 0.8322 - val_loss: 0.4523 - val_acc: 0.8756\n",
      "Epoch 44/150\n",
      "54/54 [==============================] - 21s 382ms/step - loss: 0.3537 - acc: 0.8375 - val_loss: 0.4719 - val_acc: 0.8881\n",
      "Epoch 45/150\n",
      "54/54 [==============================] - 21s 383ms/step - loss: 0.3586 - acc: 0.8398 - val_loss: 0.4298 - val_acc: 0.9005\n",
      "Epoch 46/150\n",
      "54/54 [==============================] - 21s 386ms/step - loss: 0.3389 - acc: 0.8451 - val_loss: 0.4165 - val_acc: 0.8980\n",
      "Epoch 47/150\n",
      "54/54 [==============================] - 21s 381ms/step - loss: 0.3689 - acc: 0.8245 - val_loss: 0.4099 - val_acc: 0.9080\n",
      "Epoch 48/150\n",
      "54/54 [==============================] - 21s 387ms/step - loss: 0.4614 - acc: 0.7562 - val_loss: 0.4993 - val_acc: 0.7960\n",
      "Epoch 49/150\n",
      "54/54 [==============================] - 21s 383ms/step - loss: 0.4772 - acc: 0.7285 - val_loss: 0.6017 - val_acc: 0.8507\n",
      "Epoch 50/150\n",
      "54/54 [==============================] - 21s 385ms/step - loss: 0.5484 - acc: 0.7291 - val_loss: 0.3850 - val_acc: 0.8706\n",
      "Epoch 51/150\n",
      "54/54 [==============================] - 21s 388ms/step - loss: 0.4906 - acc: 0.7479 - val_loss: 0.3861 - val_acc: 0.8881\n",
      "Epoch 52/150\n",
      "54/54 [==============================] - 21s 384ms/step - loss: 0.5363 - acc: 0.7303 - val_loss: 0.4341 - val_acc: 0.8856\n",
      "Epoch 53/150\n",
      "54/54 [==============================] - 21s 386ms/step - loss: 0.4860 - acc: 0.7403 - val_loss: 0.3839 - val_acc: 0.8856\n",
      "Epoch 54/150\n",
      "54/54 [==============================] - 21s 385ms/step - loss: 0.4400 - acc: 0.7574 - val_loss: 0.4148 - val_acc: 0.8905\n",
      "Epoch 55/150\n",
      "54/54 [==============================] - 21s 383ms/step - loss: 0.4094 - acc: 0.7591 - val_loss: 0.4137 - val_acc: 0.8706\n",
      "Epoch 56/150\n",
      "54/54 [==============================] - 21s 384ms/step - loss: 0.3957 - acc: 0.7709 - val_loss: 0.5261 - val_acc: 0.8806\n",
      "Epoch 57/150\n",
      "54/54 [==============================] - 21s 384ms/step - loss: 0.4055 - acc: 0.7739 - val_loss: 0.3868 - val_acc: 0.8881\n",
      "Epoch 58/150\n",
      "54/54 [==============================] - 21s 385ms/step - loss: 0.4193 - acc: 0.7733 - val_loss: 0.4991 - val_acc: 0.8831\n",
      "Epoch 59/150\n",
      "54/54 [==============================] - 21s 385ms/step - loss: 0.4139 - acc: 0.7680 - val_loss: 0.4674 - val_acc: 0.8806\n",
      "Epoch 60/150\n",
      "54/54 [==============================] - 21s 384ms/step - loss: 0.4164 - acc: 0.7650 - val_loss: 0.5854 - val_acc: 0.8706\n",
      "Epoch 61/150\n",
      "54/54 [==============================] - 21s 387ms/step - loss: 0.3970 - acc: 0.7762 - val_loss: 0.4368 - val_acc: 0.8955\n"
     ]
    },
    {
     "name": "stdout",
     "output_type": "stream",
     "text": [
      "Epoch 62/150\n",
      "54/54 [==============================] - 21s 385ms/step - loss: 0.3647 - acc: 0.7886 - val_loss: 0.4319 - val_acc: 0.9055\n",
      "Epoch 63/150\n",
      "54/54 [==============================] - 21s 385ms/step - loss: 0.3984 - acc: 0.7727 - val_loss: 0.5437 - val_acc: 0.8607\n",
      "Epoch 64/150\n",
      "54/54 [==============================] - 21s 381ms/step - loss: 0.4009 - acc: 0.7892 - val_loss: 0.4275 - val_acc: 0.9005\n",
      "Epoch 65/150\n",
      "54/54 [==============================] - 21s 380ms/step - loss: 0.4123 - acc: 0.7638 - val_loss: 0.3869 - val_acc: 0.8881\n",
      "Epoch 66/150\n",
      "54/54 [==============================] - 21s 385ms/step - loss: 0.4055 - acc: 0.7580 - val_loss: 0.4179 - val_acc: 0.8831\n",
      "Epoch 67/150\n",
      "54/54 [==============================] - 21s 383ms/step - loss: 0.3700 - acc: 0.7768 - val_loss: 0.4125 - val_acc: 0.8806\n",
      "Epoch 68/150\n",
      "54/54 [==============================] - 21s 385ms/step - loss: 0.3615 - acc: 0.7750 - val_loss: 0.3989 - val_acc: 0.8905\n",
      "Epoch 69/150\n",
      "54/54 [==============================] - 21s 385ms/step - loss: 0.3780 - acc: 0.7727 - val_loss: 0.4174 - val_acc: 0.8831\n",
      "Epoch 70/150\n",
      "54/54 [==============================] - 21s 383ms/step - loss: 0.3928 - acc: 0.7827 - val_loss: 0.4837 - val_acc: 0.8781\n",
      "Epoch 71/150\n",
      "54/54 [==============================] - 21s 383ms/step - loss: 0.4173 - acc: 0.7680 - val_loss: 0.4103 - val_acc: 0.8856\n",
      "Epoch 72/150\n",
      "54/54 [==============================] - 21s 383ms/step - loss: 0.4182 - acc: 0.7568 - val_loss: 0.5255 - val_acc: 0.8756\n",
      "Epoch 73/150\n",
      "54/54 [==============================] - 21s 385ms/step - loss: 0.4530 - acc: 0.7491 - val_loss: 0.5400 - val_acc: 0.8706\n",
      "Epoch 74/150\n",
      "54/54 [==============================] - 21s 385ms/step - loss: 0.4514 - acc: 0.7638 - val_loss: 0.3949 - val_acc: 0.8781\n",
      "Epoch 75/150\n",
      "54/54 [==============================] - 21s 383ms/step - loss: 0.3852 - acc: 0.7809 - val_loss: 0.4374 - val_acc: 0.8930\n",
      "Epoch 76/150\n",
      "54/54 [==============================] - 21s 385ms/step - loss: 0.3770 - acc: 0.7715 - val_loss: 0.3862 - val_acc: 0.8955\n",
      "Epoch 77/150\n",
      "54/54 [==============================] - 21s 385ms/step - loss: 0.3792 - acc: 0.7739 - val_loss: 0.3681 - val_acc: 0.9055\n",
      "Epoch 78/150\n",
      "54/54 [==============================] - 21s 384ms/step - loss: 0.3841 - acc: 0.7774 - val_loss: 0.3999 - val_acc: 0.9005\n",
      "Epoch 79/150\n",
      "54/54 [==============================] - 21s 381ms/step - loss: 0.3676 - acc: 0.7756 - val_loss: 0.4147 - val_acc: 0.8955\n",
      "Epoch 80/150\n",
      "54/54 [==============================] - 21s 405ms/step - loss: 0.3635 - acc: 0.7845 - val_loss: 0.4196 - val_acc: 0.8930\n",
      "Epoch 81/150\n",
      "54/54 [==============================] - 21s 390ms/step - loss: 0.3645 - acc: 0.7945 - val_loss: 0.4744 - val_acc: 0.8955\n",
      "Epoch 82/150\n",
      "54/54 [==============================] - 21s 392ms/step - loss: 0.3838 - acc: 0.7591 - val_loss: 0.4859 - val_acc: 0.8955\n",
      "Epoch 83/150\n",
      "54/54 [==============================] - 21s 384ms/step - loss: 0.3510 - acc: 0.7756 - val_loss: 0.5635 - val_acc: 0.8881\n",
      "Epoch 84/150\n",
      "54/54 [==============================] - 21s 387ms/step - loss: 0.3372 - acc: 0.7927 - val_loss: 0.4136 - val_acc: 0.8905\n",
      "Epoch 85/150\n",
      "54/54 [==============================] - 21s 383ms/step - loss: 0.3726 - acc: 0.7945 - val_loss: 0.4382 - val_acc: 0.8980\n",
      "Epoch 86/150\n",
      "54/54 [==============================] - 21s 383ms/step - loss: 0.3667 - acc: 0.7968 - val_loss: 0.4228 - val_acc: 0.8930\n",
      "Epoch 87/150\n",
      "54/54 [==============================] - 21s 383ms/step - loss: 0.3809 - acc: 0.7768 - val_loss: 0.4207 - val_acc: 0.9005\n",
      "Epoch 88/150\n",
      "54/54 [==============================] - 21s 382ms/step - loss: 0.3339 - acc: 0.7845 - val_loss: 0.4332 - val_acc: 0.9005\n",
      "Epoch 89/150\n",
      "54/54 [==============================] - 21s 382ms/step - loss: 0.3592 - acc: 0.7962 - val_loss: 0.4835 - val_acc: 0.8632\n",
      "Epoch 90/150\n",
      "54/54 [==============================] - 21s 385ms/step - loss: 0.3565 - acc: 0.7721 - val_loss: 0.4400 - val_acc: 0.8980\n",
      "Epoch 91/150\n",
      "54/54 [==============================] - 21s 383ms/step - loss: 0.3419 - acc: 0.7862 - val_loss: 0.4933 - val_acc: 0.8930\n",
      "Epoch 92/150\n",
      "54/54 [==============================] - 22s 398ms/step - loss: 0.3204 - acc: 0.7927 - val_loss: 0.5503 - val_acc: 0.8632\n",
      "Epoch 93/150\n",
      "54/54 [==============================] - 21s 389ms/step - loss: 0.3528 - acc: 0.7633 - val_loss: 0.4383 - val_acc: 0.8955\n",
      "Epoch 94/150\n",
      "54/54 [==============================] - 21s 385ms/step - loss: 0.3431 - acc: 0.7733 - val_loss: 0.4153 - val_acc: 0.9005\n",
      "Epoch 95/150\n",
      "54/54 [==============================] - 21s 388ms/step - loss: 0.3389 - acc: 0.7756 - val_loss: 0.4406 - val_acc: 0.8831\n",
      "Epoch 96/150\n",
      "54/54 [==============================] - 21s 387ms/step - loss: 0.3698 - acc: 0.7880 - val_loss: 0.5164 - val_acc: 0.8831\n",
      "Epoch 97/150\n",
      "54/54 [==============================] - 21s 385ms/step - loss: 0.3596 - acc: 0.7986 - val_loss: 0.4467 - val_acc: 0.8831\n",
      "Epoch 98/150\n",
      "54/54 [==============================] - 21s 382ms/step - loss: 0.3722 - acc: 0.7774 - val_loss: 0.6732 - val_acc: 0.8532\n",
      "Epoch 99/150\n",
      "54/54 [==============================] - 21s 381ms/step - loss: 0.3746 - acc: 0.7591 - val_loss: 0.4490 - val_acc: 0.9080\n",
      "Epoch 100/150\n",
      "54/54 [==============================] - 21s 389ms/step - loss: 0.3802 - acc: 0.7780 - val_loss: 0.3946 - val_acc: 0.9154\n",
      "Epoch 101/150\n",
      "54/54 [==============================] - 21s 383ms/step - loss: 0.4194 - acc: 0.7574 - val_loss: 0.4236 - val_acc: 0.9030\n",
      "Epoch 102/150\n",
      "54/54 [==============================] - 21s 387ms/step - loss: 0.3602 - acc: 0.7845 - val_loss: 0.4627 - val_acc: 0.8781\n",
      "Epoch 103/150\n",
      "54/54 [==============================] - 21s 387ms/step - loss: 0.3946 - acc: 0.7715 - val_loss: 0.5802 - val_acc: 0.8682\n",
      "Epoch 104/150\n",
      "54/54 [==============================] - 21s 386ms/step - loss: 0.4348 - acc: 0.7833 - val_loss: 0.4239 - val_acc: 0.8881\n",
      "Epoch 105/150\n",
      "54/54 [==============================] - 21s 388ms/step - loss: 0.3935 - acc: 0.7786 - val_loss: 0.4318 - val_acc: 0.8806\n",
      "Epoch 106/150\n",
      "54/54 [==============================] - 21s 385ms/step - loss: 0.4228 - acc: 0.7762 - val_loss: 0.4035 - val_acc: 0.8731\n",
      "Epoch 107/150\n",
      "54/54 [==============================] - 21s 383ms/step - loss: 0.4498 - acc: 0.7621 - val_loss: 0.3543 - val_acc: 0.8682\n",
      "Epoch 108/150\n",
      "54/54 [==============================] - 21s 382ms/step - loss: 0.4210 - acc: 0.7509 - val_loss: 0.3865 - val_acc: 0.9030\n",
      "Epoch 109/150\n",
      "54/54 [==============================] - 21s 387ms/step - loss: 0.3876 - acc: 0.7574 - val_loss: 0.3174 - val_acc: 0.9030\n",
      "Epoch 110/150\n",
      "54/54 [==============================] - 21s 387ms/step - loss: 0.3937 - acc: 0.8186 - val_loss: 0.3964 - val_acc: 0.9080\n",
      "Epoch 111/150\n",
      "54/54 [==============================] - 21s 382ms/step - loss: 0.3846 - acc: 0.7739 - val_loss: 0.3708 - val_acc: 0.8881\n",
      "Epoch 112/150\n",
      "54/54 [==============================] - 21s 386ms/step - loss: 0.3763 - acc: 0.7615 - val_loss: 0.4120 - val_acc: 0.8781\n",
      "Epoch 113/150\n",
      "54/54 [==============================] - 21s 383ms/step - loss: 0.3441 - acc: 0.7909 - val_loss: 0.4950 - val_acc: 0.8905\n",
      "Epoch 114/150\n",
      "54/54 [==============================] - 21s 386ms/step - loss: 0.3434 - acc: 0.8145 - val_loss: 0.4116 - val_acc: 0.8930\n",
      "Epoch 115/150\n",
      "54/54 [==============================] - 21s 384ms/step - loss: 0.3480 - acc: 0.7927 - val_loss: 0.4372 - val_acc: 0.8905\n",
      "Epoch 116/150\n",
      "54/54 [==============================] - 21s 382ms/step - loss: 0.3434 - acc: 0.7903 - val_loss: 0.4270 - val_acc: 0.8930\n",
      "Epoch 117/150\n",
      "54/54 [==============================] - 21s 387ms/step - loss: 0.3325 - acc: 0.7927 - val_loss: 0.4406 - val_acc: 0.8881\n",
      "Epoch 118/150\n",
      "54/54 [==============================] - 21s 384ms/step - loss: 0.3666 - acc: 0.7903 - val_loss: 0.4834 - val_acc: 0.8881\n",
      "Epoch 119/150\n",
      "54/54 [==============================] - 21s 385ms/step - loss: 0.3921 - acc: 0.7862 - val_loss: 0.4279 - val_acc: 0.8930\n",
      "Epoch 120/150\n",
      "54/54 [==============================] - 21s 384ms/step - loss: 0.3366 - acc: 0.7939 - val_loss: 0.4792 - val_acc: 0.8905\n",
      "Epoch 121/150\n",
      "54/54 [==============================] - 21s 380ms/step - loss: 0.3372 - acc: 0.8033 - val_loss: 0.3926 - val_acc: 0.8806\n",
      "Epoch 122/150\n"
     ]
    },
    {
     "name": "stdout",
     "output_type": "stream",
     "text": [
      "54/54 [==============================] - 21s 382ms/step - loss: 0.3434 - acc: 0.7756 - val_loss: 0.4408 - val_acc: 0.9055\n",
      "Epoch 123/150\n",
      "54/54 [==============================] - 21s 382ms/step - loss: 0.3338 - acc: 0.7721 - val_loss: 0.4505 - val_acc: 0.8881\n",
      "Epoch 124/150\n",
      "54/54 [==============================] - 21s 384ms/step - loss: 0.3445 - acc: 0.7856 - val_loss: 0.3940 - val_acc: 0.9030\n",
      "Epoch 125/150\n",
      "54/54 [==============================] - 21s 384ms/step - loss: 0.3322 - acc: 0.7880 - val_loss: 0.4487 - val_acc: 0.8731\n",
      "Epoch 126/150\n",
      "54/54 [==============================] - 20s 378ms/step - loss: 0.3117 - acc: 0.8180 - val_loss: 0.4110 - val_acc: 0.8582\n",
      "Epoch 127/150\n",
      "54/54 [==============================] - 21s 385ms/step - loss: 0.3132 - acc: 0.8068 - val_loss: 0.5121 - val_acc: 0.8955\n",
      "Epoch 128/150\n",
      "54/54 [==============================] - 21s 384ms/step - loss: 0.3327 - acc: 0.8045 - val_loss: 0.4641 - val_acc: 0.8682\n",
      "Epoch 129/150\n",
      "54/54 [==============================] - 21s 383ms/step - loss: 0.3136 - acc: 0.8021 - val_loss: 0.4601 - val_acc: 0.8682\n",
      "Epoch 130/150\n",
      "54/54 [==============================] - 21s 387ms/step - loss: 0.3395 - acc: 0.7933 - val_loss: 0.4455 - val_acc: 0.8756\n",
      "Epoch 131/150\n",
      "54/54 [==============================] - 21s 383ms/step - loss: 0.3246 - acc: 0.8009 - val_loss: 0.4960 - val_acc: 0.8806\n",
      "Epoch 132/150\n",
      "54/54 [==============================] - 21s 383ms/step - loss: 0.3159 - acc: 0.7956 - val_loss: 0.4747 - val_acc: 0.8905\n",
      "Epoch 133/150\n",
      "54/54 [==============================] - 21s 385ms/step - loss: 0.3053 - acc: 0.8115 - val_loss: 0.4890 - val_acc: 0.8930\n",
      "Epoch 134/150\n",
      "54/54 [==============================] - 21s 384ms/step - loss: 0.3140 - acc: 0.8057 - val_loss: 0.4915 - val_acc: 0.9104\n",
      "Epoch 135/150\n",
      "54/54 [==============================] - 21s 385ms/step - loss: 0.3151 - acc: 0.7921 - val_loss: 0.4804 - val_acc: 0.9055\n",
      "Epoch 136/150\n",
      "54/54 [==============================] - 21s 385ms/step - loss: 0.3085 - acc: 0.8057 - val_loss: 0.5388 - val_acc: 0.8930\n",
      "Epoch 137/150\n",
      "54/54 [==============================] - 21s 383ms/step - loss: 0.2957 - acc: 0.8157 - val_loss: 0.5874 - val_acc: 0.9005\n",
      "Epoch 138/150\n",
      "54/54 [==============================] - 21s 381ms/step - loss: 0.2974 - acc: 0.8074 - val_loss: 0.5086 - val_acc: 0.9080\n",
      "Epoch 139/150\n",
      "54/54 [==============================] - 21s 380ms/step - loss: 0.3036 - acc: 0.8057 - val_loss: 0.4236 - val_acc: 0.8756\n",
      "Epoch 140/150\n",
      "54/54 [==============================] - 21s 388ms/step - loss: 0.2953 - acc: 0.8021 - val_loss: 0.4829 - val_acc: 0.8955\n",
      "Epoch 141/150\n",
      "54/54 [==============================] - 21s 386ms/step - loss: 0.2950 - acc: 0.8062 - val_loss: 0.6453 - val_acc: 0.8856\n",
      "Epoch 142/150\n",
      "54/54 [==============================] - 21s 386ms/step - loss: 0.3454 - acc: 0.7839 - val_loss: 0.4643 - val_acc: 0.8856\n",
      "Epoch 143/150\n",
      "54/54 [==============================] - 21s 382ms/step - loss: 0.3078 - acc: 0.8121 - val_loss: 0.5420 - val_acc: 0.8806\n",
      "Epoch 144/150\n",
      "54/54 [==============================] - 21s 382ms/step - loss: 0.2979 - acc: 0.8133 - val_loss: 0.4716 - val_acc: 0.8980\n",
      "Epoch 145/150\n",
      "54/54 [==============================] - 21s 387ms/step - loss: 0.2963 - acc: 0.8168 - val_loss: 0.4542 - val_acc: 0.8881\n",
      "Epoch 146/150\n",
      "54/54 [==============================] - 21s 384ms/step - loss: 0.2994 - acc: 0.7992 - val_loss: 0.4622 - val_acc: 0.8930\n",
      "Epoch 147/150\n",
      "54/54 [==============================] - 21s 387ms/step - loss: 0.3078 - acc: 0.8133 - val_loss: 0.5116 - val_acc: 0.8930\n",
      "Epoch 148/150\n",
      "54/54 [==============================] - 21s 382ms/step - loss: 0.2834 - acc: 0.8257 - val_loss: 0.4976 - val_acc: 0.8856\n",
      "Epoch 149/150\n",
      "54/54 [==============================] - 21s 381ms/step - loss: 0.2945 - acc: 0.8104 - val_loss: 0.5358 - val_acc: 0.9055\n",
      "Epoch 150/150\n",
      "54/54 [==============================] - 21s 384ms/step - loss: 0.3149 - acc: 0.8221 - val_loss: 0.4906 - val_acc: 0.9030\n"
     ]
    }
   ],
   "source": [
    "H2 = model.fit(train_gen,\n",
    "              validation_data=val_gen,\n",
    "              epochs=150,\n",
    "              verbose=1,)"
   ]
  },
  {
   "cell_type": "code",
   "execution_count": 35,
   "id": "481a3410",
   "metadata": {},
   "outputs": [
    {
     "name": "stdout",
     "output_type": "stream",
     "text": [
      "INFO:tensorflow:Assets written to: C:\\Users\\DKID~1\\AppData\\Local\\Temp\\tmptl0w6fua\\assets\n"
     ]
    },
    {
     "name": "stderr",
     "output_type": "stream",
     "text": [
      "WARNING:absl:Buffer deduplication procedure will be skipped when flatbuffer library is not properly loaded\n"
     ]
    }
   ],
   "source": [
    "import tensorflow as tf\n",
    "\n",
    "# Convert the model\n",
    "converter = tf.lite.TFLiteConverter.from_keras_model(model)\n",
    "tflite_model = converter.convert()\n",
    "\n",
    "# Save the model.\n",
    "save_tflite = 'D:\\SEMESTER 7\\MachineLearning\\Praktikum\\Modul 5\\model_kelompok.tflite'\n",
    "with open(save_tflite, 'wb') as f:\n",
    "  f.write(tflite_model)"
   ]
  },
  {
   "cell_type": "code",
   "execution_count": null,
   "id": "acc56464",
   "metadata": {},
   "outputs": [],
   "source": []
  }
 ],
 "metadata": {
  "kernelspec": {
   "display_name": "Python 3 (ipykernel)",
   "language": "python",
   "name": "python3"
  },
  "language_info": {
   "codemirror_mode": {
    "name": "ipython",
    "version": 3
   },
   "file_extension": ".py",
   "mimetype": "text/x-python",
   "name": "python",
   "nbconvert_exporter": "python",
   "pygments_lexer": "ipython3",
   "version": "3.9.9"
  }
 },
 "nbformat": 4,
 "nbformat_minor": 5
}
