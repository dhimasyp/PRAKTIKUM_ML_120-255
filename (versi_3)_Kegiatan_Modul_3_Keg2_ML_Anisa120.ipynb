{
  "nbformat": 4,
  "nbformat_minor": 0,
  "metadata": {
    "colab": {
      "name": "(versi 3) Kegiatan Modul 3_Keg2_ML_Anisa120.ipynb",
      "provenance": [],
      "authorship_tag": "ABX9TyPAxrimfOBYzEESA/ThpMzF",
      "include_colab_link": true
    },
    "kernelspec": {
      "name": "python3",
      "display_name": "Python 3"
    },
    "language_info": {
      "name": "python"
    },
    "accelerator": "GPU"
  },
  "cells": [
    {
      "cell_type": "markdown",
      "metadata": {
        "id": "view-in-github",
        "colab_type": "text"
      },
      "source": [
        "<a href=\"https://colab.research.google.com/github/dhimasyp/PRAKTIKUM_ML_120-255/blob/Anisa/(versi_3)_Kegiatan_Modul_3_Keg2_ML_Anisa120.ipynb\" target=\"_parent\"><img src=\"https://colab.research.google.com/assets/colab-badge.svg\" alt=\"Open In Colab\"/></a>"
      ]
    },
    {
      "cell_type": "code",
      "metadata": {
        "id": "8lYkj0i7Ej12"
      },
      "source": [
        "#import library \n",
        "import pandas as pd\n",
        "import numpy as np\n",
        "import os, cv2, shutil\n",
        "import numpy as np\n",
        "import matplotlib.pyplot as plt\n",
        "import matplotlib.image as mpimg\n",
        "%matplotlib inline\n",
        "from sklearn.model_selection import train_test_split\n",
        "from sklearn.metrics import classification_report, confusion_matrix\n",
        "from tensorflow.keras.preprocessing.image import ImageDataGenerator\n",
        "from tensorflow.keras.models import Sequential\n",
        "from tensorflow.keras.layers import InputLayer, Dense, Conv2D, MaxPool2D, Flatten,BatchNormalization, Dropout, AveragePooling2D, GlobalAveragePooling2D\n",
        "from tensorflow.keras.optimizers import Adam\n",
        "from google.colab import files\n",
        "from keras.preprocessing import image"
      ],
      "execution_count": 58,
      "outputs": []
    },
    {
      "cell_type": "code",
      "metadata": {
        "colab": {
          "base_uri": "https://localhost:8080/"
        },
        "id": "TvyvlhR5EuPT",
        "outputId": "2ccfebff-833e-4efa-d9ab-7fd9627b3e92"
      },
      "source": [
        "from google.colab import drive\n",
        "drive.mount('/content/drive')"
      ],
      "execution_count": 2,
      "outputs": [
        {
          "output_type": "stream",
          "name": "stdout",
          "text": [
            "Mounted at /content/drive\n"
          ]
        }
      ]
    },
    {
      "cell_type": "code",
      "metadata": {
        "id": "fyEXwqdFE1Sx"
      },
      "source": [
        "# Definisikan path kaggle json\n",
        "# Sesuaikan dengan path anda\n",
        "import os\n",
        "os.environ['KAGGLE_CONFIG_DIR'] = \"/content/drive/My Drive/Dataset_BrainTumor\""
      ],
      "execution_count": 9,
      "outputs": []
    },
    {
      "cell_type": "code",
      "metadata": {
        "colab": {
          "base_uri": "https://localhost:8080/"
        },
        "id": "SyBWCLZ7FZ_H",
        "outputId": "6a5ff55f-e272-4e6d-80e9-9f0f90b2d021"
      },
      "source": [
        "# Ubah lokasi direktori kerja\n",
        "# Sesuaikan dengan path anda\n",
        "%cd /content/drive/My Drive/Dataset_BrainTumor"
      ],
      "execution_count": 10,
      "outputs": [
        {
          "output_type": "stream",
          "name": "stdout",
          "text": [
            "/content/drive/My Drive/Dataset_BrainTumor\n"
          ]
        }
      ]
    },
    {
      "cell_type": "code",
      "metadata": {
        "colab": {
          "base_uri": "https://localhost:8080/"
        },
        "id": "YWnfG-puFdEI",
        "outputId": "3ae96663-04a1-4e70-e847-ecd9612c2197"
      },
      "source": [
        "!ls"
      ],
      "execution_count": 11,
      "outputs": [
        {
          "output_type": "stream",
          "name": "stdout",
          "text": [
            "kaggle.json\n"
          ]
        }
      ]
    },
    {
      "cell_type": "code",
      "metadata": {
        "colab": {
          "base_uri": "https://localhost:8080/"
        },
        "id": "cvJ02o9YF_zu",
        "outputId": "91a94cbd-bf2c-4afc-d992-088cccdde712"
      },
      "source": [
        "!kaggle datasets download -d denizkavi1/brain-tumor"
      ],
      "execution_count": 40,
      "outputs": [
        {
          "output_type": "stream",
          "name": "stdout",
          "text": [
            "Downloading brain-tumor.zip to /content/drive/My Drive/Dataset_BrainTumor\n",
            " 99% 691M/700M [00:06<00:00, 107MB/s]\n",
            "100% 700M/700M [00:06<00:00, 109MB/s]\n"
          ]
        }
      ]
    },
    {
      "cell_type": "code",
      "metadata": {
        "colab": {
          "base_uri": "https://localhost:8080/"
        },
        "id": "xqQ_amdLGOJL",
        "outputId": "729b1ca1-c1c1-4f53-83ec-3a8cd532af16"
      },
      "source": [
        "# Cek isi direktori kerja dan memastikan dataset telah berhasil didownload.\n",
        "!ls"
      ],
      "execution_count": 41,
      "outputs": [
        {
          "output_type": "stream",
          "name": "stdout",
          "text": [
            "brain-tumor.zip  kaggle.json\n"
          ]
        }
      ]
    },
    {
      "cell_type": "markdown",
      "metadata": {
        "id": "_TpVk3ZiJeKd"
      },
      "source": [
        "**Preprocessing**"
      ]
    },
    {
      "cell_type": "code",
      "metadata": {
        "id": "JKY6cHttNbRC"
      },
      "source": [
        "#Ekstrak dataset\n",
        "import os\n",
        "import zipfile\n",
        "\n",
        "local_zip = \"/content/drive/MyDrive/Dataset_BrainTumor/brain-tumor.zip\"\n",
        "zip_ref = zipfile.ZipFile(\"/content/drive/MyDrive/Dataset_BrainTumor/brain-tumor.zip\", 'r')\n",
        "zip_ref.extractall(\"/content/drive/MyDrive/Dataset_BrainTumor\")"
      ],
      "execution_count": 42,
      "outputs": []
    },
    {
      "cell_type": "code",
      "metadata": {
        "colab": {
          "base_uri": "https://localhost:8080/"
        },
        "id": "wfQXo_b0QDCn",
        "outputId": "c1311f06-da72-4062-9a76-d27223e43150"
      },
      "source": [
        "!ls"
      ],
      "execution_count": 44,
      "outputs": [
        {
          "output_type": "stream",
          "name": "stdout",
          "text": [
            "brain-tumor.zip  Glioma  kaggle.json  Meningioma  Pituitary\n"
          ]
        }
      ]
    },
    {
      "cell_type": "code",
      "metadata": {
        "id": "mXEKaUiAQJjR"
      },
      "source": [
        "os.makedirs('/content/drive/My Drive/Dataset_BrainTumor/Dataset')"
      ],
      "execution_count": 47,
      "outputs": []
    },
    {
      "cell_type": "code",
      "metadata": {
        "colab": {
          "base_uri": "https://localhost:8080/",
          "height": 35
        },
        "id": "uFH87ZzVQzyN",
        "outputId": "a5601ab5-b99e-4e1a-ac65-cf48c24b79b4"
      },
      "source": [
        "shutil.move('Meningioma', 'Dataset')\n",
        "shutil.move('Pituitary', 'Dataset')\n",
        "shutil.move('Glioma', 'Dataset')"
      ],
      "execution_count": 48,
      "outputs": [
        {
          "output_type": "execute_result",
          "data": {
            "application/vnd.google.colaboratory.intrinsic+json": {
              "type": "string"
            },
            "text/plain": [
              "'Dataset/Glioma'"
            ]
          },
          "metadata": {},
          "execution_count": 48
        }
      ]
    },
    {
      "cell_type": "code",
      "metadata": {
        "colab": {
          "base_uri": "https://localhost:8080/"
        },
        "id": "rINDLvA-RC7_",
        "outputId": "0ab66115-dd31-4e30-f499-862172de749c"
      },
      "source": [
        "!ls"
      ],
      "execution_count": 49,
      "outputs": [
        {
          "output_type": "stream",
          "name": "stdout",
          "text": [
            "brain-tumor.zip  Dataset  kaggle.json\n"
          ]
        }
      ]
    },
    {
      "cell_type": "code",
      "metadata": {
        "colab": {
          "base_uri": "https://localhost:8080/"
        },
        "id": "xjHGeN9cRE7k",
        "outputId": "d5822ec4-415d-442a-9fc0-973704d66b89"
      },
      "source": [
        "!pip install split-folders"
      ],
      "execution_count": 50,
      "outputs": [
        {
          "output_type": "stream",
          "name": "stdout",
          "text": [
            "Requirement already satisfied: split-folders in /usr/local/lib/python3.7/dist-packages (0.4.3)\n"
          ]
        }
      ]
    },
    {
      "cell_type": "code",
      "metadata": {
        "id": "j_Iu6kriRHhR"
      },
      "source": [
        "base_dir = '/content/drive/My Drive/Dataset_BrainTumor'\n",
        "data_dir = '/content/drive/My Drive/Dataset_BrainTumor/Dataset'"
      ],
      "execution_count": 51,
      "outputs": []
    },
    {
      "cell_type": "code",
      "metadata": {
        "colab": {
          "base_uri": "https://localhost:8080/"
        },
        "id": "kCT1etVARRMC",
        "outputId": "641fcaa1-e09e-4508-ec4b-1db6da6b6bcc"
      },
      "source": [
        "import splitfolders\n",
        "splitfolders.ratio(data_dir, output=base_dir, seed=1337, ratio=(.7,.15,.15),group_prefix=None)"
      ],
      "execution_count": 52,
      "outputs": [
        {
          "output_type": "stream",
          "name": "stderr",
          "text": [
            "Copying files: 3064 files [01:04, 47.72 files/s]\n"
          ]
        }
      ]
    },
    {
      "cell_type": "code",
      "metadata": {
        "colab": {
          "base_uri": "https://localhost:8080/"
        },
        "id": "X8D8Zu-NRUIO",
        "outputId": "fa8f903e-f3ee-4b79-a9e9-71a3d7cb35d4"
      },
      "source": [
        "!ls"
      ],
      "execution_count": 53,
      "outputs": [
        {
          "output_type": "stream",
          "name": "stdout",
          "text": [
            "brain-tumor.zip  Dataset  kaggle.json  test  train  val\n"
          ]
        }
      ]
    },
    {
      "cell_type": "markdown",
      "metadata": {
        "id": "Ot-PwIwARZfp"
      },
      "source": [
        "**Preprocessing**"
      ]
    },
    {
      "cell_type": "code",
      "metadata": {
        "id": "AtiG8C9CRdSb"
      },
      "source": [
        "# TULIS KODE ANDA DISINI\n",
        "datagen = ImageDataGenerator(rescale=1./255)"
      ],
      "execution_count": 54,
      "outputs": []
    },
    {
      "cell_type": "code",
      "metadata": {
        "colab": {
          "base_uri": "https://localhost:8080/"
        },
        "id": "dfwhw_WQRzbX",
        "outputId": "09e97d08-efcf-44d3-bdb1-12bfd32d2f10"
      },
      "source": [
        "input_shape = (150, 150)\n",
        "\n",
        "train = '/content/drive/My Drive/Dataset_BrainTumor/train'\n",
        "train_generator = datagen.flow_from_directory(train,\n",
        "                                              target_size=input_shape,\n",
        "                                              class_mode='categorical',\n",
        "                                              batch_size=32,\n",
        "                                              color_mode='rgb',\n",
        "                                              shuffle= True)\n",
        "\n",
        "validation = '/content/drive/My Drive/Dataset_BrainTumor/val'\n",
        "validation_generator = datagen.flow_from_directory(validation,\n",
        "                                              target_size=input_shape,\n",
        "                                              class_mode='categorical',\n",
        "                                              batch_size=32,\n",
        "                                              color_mode='rgb',\n",
        "                                              shuffle= True)\n",
        "\n",
        "test = '/content/drive/My Drive/Dataset_BrainTumor/test'\n",
        "test_generator = datagen.flow_from_directory(test,\n",
        "                                              target_size=input_shape,\n",
        "                                              batch_size=32,\n",
        "                                              color_mode='rgb',\n",
        "                                              shuffle= False)"
      ],
      "execution_count": 56,
      "outputs": [
        {
          "output_type": "stream",
          "name": "stdout",
          "text": [
            "Found 2144 images belonging to 3 classes.\n",
            "Found 458 images belonging to 3 classes.\n",
            "Found 462 images belonging to 3 classes.\n"
          ]
        }
      ]
    },
    {
      "cell_type": "code",
      "metadata": {
        "colab": {
          "base_uri": "https://localhost:8080/"
        },
        "id": "gAjUkx7sSF8m",
        "outputId": "c61c268f-5915-490a-b12f-2f26c27ec261"
      },
      "source": [
        "# Feature Extraction Layer \n",
        "model = Sequential()\n",
        "\n",
        "model.add(InputLayer(input_shape=[150,150,3]))\n",
        "model.add(Conv2D(filters=16, kernel_size=3, strides=1, padding='same', activation='relu'))\n",
        "model.add(AveragePooling2D(pool_size=2, padding='same'))\n",
        "model.add(Conv2D(filters=32, kernel_size=3, strides=1, padding='same', activation='relu'))\n",
        "model.add(AveragePooling2D(pool_size=2, padding='same'))\n",
        "model.add(Conv2D(filters=64, kernel_size=3, strides=1, padding='same', activation='relu'))\n",
        "model.add(AveragePooling2D(pool_size=2, padding='same'))\n",
        "model.add(GlobalAveragePooling2D())\n",
        "model.add(Flatten())\n",
        "\n",
        "# Fully Connected Layer\n",
        "model.add(Dense(256, activation='relu'))\n",
        "model.add(Dense(1, activation='sigmoid'))\n",
        "\n",
        "# Print model summary\n",
        "print(model.summary())"
      ],
      "execution_count": 59,
      "outputs": [
        {
          "output_type": "stream",
          "name": "stdout",
          "text": [
            "Model: \"sequential_1\"\n",
            "_________________________________________________________________\n",
            " Layer (type)                Output Shape              Param #   \n",
            "=================================================================\n",
            " conv2d_1 (Conv2D)           (None, 150, 150, 16)      448       \n",
            "                                                                 \n",
            " average_pooling2d (AverageP  (None, 75, 75, 16)       0         \n",
            " ooling2D)                                                       \n",
            "                                                                 \n",
            " conv2d_2 (Conv2D)           (None, 75, 75, 32)        4640      \n",
            "                                                                 \n",
            " average_pooling2d_1 (Averag  (None, 38, 38, 32)       0         \n",
            " ePooling2D)                                                     \n",
            "                                                                 \n",
            " conv2d_3 (Conv2D)           (None, 38, 38, 64)        18496     \n",
            "                                                                 \n",
            " average_pooling2d_2 (Averag  (None, 19, 19, 64)       0         \n",
            " ePooling2D)                                                     \n",
            "                                                                 \n",
            " global_average_pooling2d (G  (None, 64)               0         \n",
            " lobalAveragePooling2D)                                          \n",
            "                                                                 \n",
            " flatten (Flatten)           (None, 64)                0         \n",
            "                                                                 \n",
            " dense (Dense)               (None, 256)               16640     \n",
            "                                                                 \n",
            " dense_1 (Dense)             (None, 1)                 257       \n",
            "                                                                 \n",
            "=================================================================\n",
            "Total params: 40,481\n",
            "Trainable params: 40,481\n",
            "Non-trainable params: 0\n",
            "_________________________________________________________________\n",
            "None\n"
          ]
        }
      ]
    },
    {
      "cell_type": "code",
      "metadata": {
        "colab": {
          "base_uri": "https://localhost:8080/"
        },
        "id": "G_Z6i_PJSriL",
        "outputId": "6d31deaa-61b1-4f2e-81fc-d18522c208ce"
      },
      "source": [
        "# Compile model\n",
        "from tensorflow.keras.optimizers import Adam\n",
        "\n",
        "model.compile(optimizer=Adam(lr=0.001), \n",
        "              loss='binary_crossentropy', \n",
        "              metrics=['acc'])"
      ],
      "execution_count": 60,
      "outputs": [
        {
          "output_type": "stream",
          "name": "stderr",
          "text": [
            "/usr/local/lib/python3.7/dist-packages/keras/optimizer_v2/adam.py:105: UserWarning: The `lr` argument is deprecated, use `learning_rate` instead.\n",
            "  super(Adam, self).__init__(name, **kwargs)\n"
          ]
        }
      ]
    },
    {
      "cell_type": "code",
      "metadata": {
        "colab": {
          "base_uri": "https://localhost:8080/"
        },
        "id": "FY-8SZ95Stp0",
        "outputId": "002977c6-edee-4def-9138-d0bf15316b51"
      },
      "source": [
        "H = model.fit_generator(train_generator, epochs = 100, validation_data = validation_generator)"
      ],
      "execution_count": 61,
      "outputs": [
        {
          "output_type": "stream",
          "name": "stderr",
          "text": [
            "/usr/local/lib/python3.7/dist-packages/ipykernel_launcher.py:1: UserWarning: `Model.fit_generator` is deprecated and will be removed in a future version. Please use `Model.fit`, which supports generators.\n",
            "  \"\"\"Entry point for launching an IPython kernel.\n"
          ]
        },
        {
          "output_type": "stream",
          "name": "stdout",
          "text": [
            "Epoch 1/100\n",
            "67/67 [==============================] - 68s 562ms/step - loss: 0.6393 - acc: 0.6667 - val_loss: 0.6366 - val_acc: 0.6667\n",
            "Epoch 2/100\n",
            "67/67 [==============================] - 37s 551ms/step - loss: 0.6366 - acc: 0.6667 - val_loss: 0.6365 - val_acc: 0.6667\n",
            "Epoch 3/100\n",
            "67/67 [==============================] - 37s 550ms/step - loss: 0.6365 - acc: 0.6667 - val_loss: 0.6365 - val_acc: 0.6667\n",
            "Epoch 4/100\n",
            "67/67 [==============================] - 37s 556ms/step - loss: 0.6365 - acc: 0.6667 - val_loss: 0.6365 - val_acc: 0.6667\n",
            "Epoch 5/100\n",
            "67/67 [==============================] - 37s 557ms/step - loss: 0.6365 - acc: 0.6667 - val_loss: 0.6365 - val_acc: 0.6667\n",
            "Epoch 6/100\n",
            "67/67 [==============================] - 37s 552ms/step - loss: 0.6365 - acc: 0.6667 - val_loss: 0.6365 - val_acc: 0.6667\n",
            "Epoch 7/100\n",
            "67/67 [==============================] - 37s 559ms/step - loss: 0.6365 - acc: 0.6667 - val_loss: 0.6365 - val_acc: 0.6667\n",
            "Epoch 8/100\n",
            "67/67 [==============================] - 37s 553ms/step - loss: 0.6365 - acc: 0.6667 - val_loss: 0.6365 - val_acc: 0.6667\n",
            "Epoch 9/100\n",
            "67/67 [==============================] - 37s 556ms/step - loss: 0.6365 - acc: 0.6667 - val_loss: 0.6365 - val_acc: 0.6667\n",
            "Epoch 10/100\n",
            "67/67 [==============================] - 37s 561ms/step - loss: 0.6365 - acc: 0.6667 - val_loss: 0.6365 - val_acc: 0.6667\n",
            "Epoch 11/100\n",
            "67/67 [==============================] - 37s 556ms/step - loss: 0.6365 - acc: 0.6667 - val_loss: 0.6365 - val_acc: 0.6667\n",
            "Epoch 12/100\n",
            "67/67 [==============================] - 37s 554ms/step - loss: 0.6365 - acc: 0.6667 - val_loss: 0.6365 - val_acc: 0.6667\n",
            "Epoch 13/100\n",
            "67/67 [==============================] - 37s 558ms/step - loss: 0.6365 - acc: 0.6667 - val_loss: 0.6365 - val_acc: 0.6667\n",
            "Epoch 14/100\n",
            "67/67 [==============================] - 37s 551ms/step - loss: 0.6365 - acc: 0.6667 - val_loss: 0.6365 - val_acc: 0.6667\n",
            "Epoch 15/100\n",
            "67/67 [==============================] - 36s 544ms/step - loss: 0.6365 - acc: 0.6667 - val_loss: 0.6365 - val_acc: 0.6667\n",
            "Epoch 16/100\n",
            "67/67 [==============================] - 36s 543ms/step - loss: 0.6365 - acc: 0.6667 - val_loss: 0.6365 - val_acc: 0.6667\n",
            "Epoch 17/100\n",
            "67/67 [==============================] - 37s 548ms/step - loss: 0.6365 - acc: 0.6667 - val_loss: 0.6365 - val_acc: 0.6667\n",
            "Epoch 18/100\n",
            "67/67 [==============================] - 37s 558ms/step - loss: 0.6365 - acc: 0.6667 - val_loss: 0.6365 - val_acc: 0.6667\n",
            "Epoch 19/100\n",
            "67/67 [==============================] - 37s 552ms/step - loss: 0.6365 - acc: 0.6667 - val_loss: 0.6365 - val_acc: 0.6667\n",
            "Epoch 20/100\n",
            "67/67 [==============================] - 37s 547ms/step - loss: 0.6365 - acc: 0.6667 - val_loss: 0.6365 - val_acc: 0.6667\n",
            "Epoch 21/100\n",
            "67/67 [==============================] - 36s 544ms/step - loss: 0.6365 - acc: 0.6667 - val_loss: 0.6365 - val_acc: 0.6667\n",
            "Epoch 22/100\n",
            "67/67 [==============================] - 36s 542ms/step - loss: 0.6365 - acc: 0.6667 - val_loss: 0.6365 - val_acc: 0.6667\n",
            "Epoch 23/100\n",
            "67/67 [==============================] - 37s 552ms/step - loss: 0.6365 - acc: 0.6667 - val_loss: 0.6365 - val_acc: 0.6667\n",
            "Epoch 24/100\n",
            "67/67 [==============================] - 37s 556ms/step - loss: 0.6365 - acc: 0.6667 - val_loss: 0.6365 - val_acc: 0.6667\n",
            "Epoch 25/100\n",
            "67/67 [==============================] - 36s 542ms/step - loss: 0.6365 - acc: 0.6667 - val_loss: 0.6365 - val_acc: 0.6667\n",
            "Epoch 26/100\n",
            "67/67 [==============================] - 36s 542ms/step - loss: 0.6365 - acc: 0.6667 - val_loss: 0.6365 - val_acc: 0.6667\n",
            "Epoch 27/100\n",
            "67/67 [==============================] - 39s 582ms/step - loss: 0.6365 - acc: 0.6667 - val_loss: 0.6365 - val_acc: 0.6667\n",
            "Epoch 28/100\n",
            "67/67 [==============================] - 40s 599ms/step - loss: 0.6365 - acc: 0.6667 - val_loss: 0.6365 - val_acc: 0.6667\n",
            "Epoch 29/100\n",
            "67/67 [==============================] - 40s 591ms/step - loss: 0.6365 - acc: 0.6667 - val_loss: 0.6365 - val_acc: 0.6667\n",
            "Epoch 30/100\n",
            "67/67 [==============================] - 40s 593ms/step - loss: 0.6365 - acc: 0.6667 - val_loss: 0.6365 - val_acc: 0.6667\n",
            "Epoch 31/100\n",
            "67/67 [==============================] - 40s 596ms/step - loss: 0.6365 - acc: 0.6667 - val_loss: 0.6365 - val_acc: 0.6667\n",
            "Epoch 32/100\n",
            "67/67 [==============================] - 40s 596ms/step - loss: 0.6365 - acc: 0.6667 - val_loss: 0.6365 - val_acc: 0.6667\n",
            "Epoch 33/100\n",
            "67/67 [==============================] - 40s 592ms/step - loss: 0.6365 - acc: 0.6667 - val_loss: 0.6365 - val_acc: 0.6667\n",
            "Epoch 34/100\n",
            "67/67 [==============================] - 40s 595ms/step - loss: 0.6365 - acc: 0.6667 - val_loss: 0.6365 - val_acc: 0.6667\n",
            "Epoch 35/100\n",
            "67/67 [==============================] - 40s 592ms/step - loss: 0.6365 - acc: 0.6667 - val_loss: 0.6365 - val_acc: 0.6667\n",
            "Epoch 36/100\n",
            "67/67 [==============================] - 39s 591ms/step - loss: 0.6365 - acc: 0.6667 - val_loss: 0.6365 - val_acc: 0.6667\n",
            "Epoch 37/100\n",
            "67/67 [==============================] - 40s 595ms/step - loss: 0.6365 - acc: 0.6667 - val_loss: 0.6365 - val_acc: 0.6667\n",
            "Epoch 38/100\n",
            "67/67 [==============================] - 40s 593ms/step - loss: 0.6365 - acc: 0.6667 - val_loss: 0.6365 - val_acc: 0.6667\n",
            "Epoch 39/100\n",
            "67/67 [==============================] - 39s 590ms/step - loss: 0.6365 - acc: 0.6667 - val_loss: 0.6365 - val_acc: 0.6667\n",
            "Epoch 40/100\n",
            "67/67 [==============================] - 40s 594ms/step - loss: 0.6365 - acc: 0.6667 - val_loss: 0.6365 - val_acc: 0.6667\n",
            "Epoch 41/100\n",
            "67/67 [==============================] - 39s 584ms/step - loss: 0.6365 - acc: 0.6667 - val_loss: 0.6365 - val_acc: 0.6667\n",
            "Epoch 42/100\n",
            "67/67 [==============================] - 36s 535ms/step - loss: 0.6365 - acc: 0.6667 - val_loss: 0.6365 - val_acc: 0.6667\n",
            "Epoch 43/100\n",
            "67/67 [==============================] - 36s 536ms/step - loss: 0.6365 - acc: 0.6667 - val_loss: 0.6365 - val_acc: 0.6667\n",
            "Epoch 44/100\n",
            "67/67 [==============================] - 36s 537ms/step - loss: 0.6365 - acc: 0.6667 - val_loss: 0.6365 - val_acc: 0.6667\n",
            "Epoch 45/100\n",
            "67/67 [==============================] - 36s 540ms/step - loss: 0.6365 - acc: 0.6667 - val_loss: 0.6365 - val_acc: 0.6667\n",
            "Epoch 46/100\n",
            "67/67 [==============================] - 36s 540ms/step - loss: 0.6365 - acc: 0.6667 - val_loss: 0.6365 - val_acc: 0.6667\n",
            "Epoch 47/100\n",
            "67/67 [==============================] - 36s 541ms/step - loss: 0.6365 - acc: 0.6667 - val_loss: 0.6365 - val_acc: 0.6667\n",
            "Epoch 48/100\n",
            "67/67 [==============================] - 36s 545ms/step - loss: 0.6365 - acc: 0.6667 - val_loss: 0.6365 - val_acc: 0.6667\n",
            "Epoch 49/100\n",
            "67/67 [==============================] - 36s 545ms/step - loss: 0.6365 - acc: 0.6667 - val_loss: 0.6365 - val_acc: 0.6667\n",
            "Epoch 50/100\n",
            "67/67 [==============================] - 36s 543ms/step - loss: 0.6365 - acc: 0.6667 - val_loss: 0.6365 - val_acc: 0.6667\n",
            "Epoch 51/100\n",
            "67/67 [==============================] - 36s 542ms/step - loss: 0.6365 - acc: 0.6667 - val_loss: 0.6365 - val_acc: 0.6667\n",
            "Epoch 52/100\n",
            "67/67 [==============================] - 36s 537ms/step - loss: 0.6365 - acc: 0.6667 - val_loss: 0.6365 - val_acc: 0.6667\n",
            "Epoch 53/100\n",
            "67/67 [==============================] - 36s 544ms/step - loss: 0.6365 - acc: 0.6667 - val_loss: 0.6365 - val_acc: 0.6667\n",
            "Epoch 54/100\n",
            "67/67 [==============================] - 36s 542ms/step - loss: 0.6365 - acc: 0.6667 - val_loss: 0.6365 - val_acc: 0.6667\n",
            "Epoch 55/100\n",
            "67/67 [==============================] - 37s 555ms/step - loss: 0.6365 - acc: 0.6667 - val_loss: 0.6365 - val_acc: 0.6667\n",
            "Epoch 56/100\n",
            "67/67 [==============================] - 37s 556ms/step - loss: 0.6365 - acc: 0.6667 - val_loss: 0.6365 - val_acc: 0.6667\n",
            "Epoch 57/100\n",
            "67/67 [==============================] - 37s 560ms/step - loss: 0.6365 - acc: 0.6667 - val_loss: 0.6365 - val_acc: 0.6667\n",
            "Epoch 58/100\n",
            "67/67 [==============================] - 38s 562ms/step - loss: 0.6365 - acc: 0.6667 - val_loss: 0.6365 - val_acc: 0.6667\n",
            "Epoch 59/100\n",
            "67/67 [==============================] - 36s 544ms/step - loss: 0.6365 - acc: 0.6667 - val_loss: 0.6365 - val_acc: 0.6667\n",
            "Epoch 60/100\n",
            "67/67 [==============================] - 36s 536ms/step - loss: 0.6365 - acc: 0.6667 - val_loss: 0.6365 - val_acc: 0.6667\n",
            "Epoch 61/100\n",
            "67/67 [==============================] - 36s 536ms/step - loss: 0.6365 - acc: 0.6667 - val_loss: 0.6365 - val_acc: 0.6667\n",
            "Epoch 62/100\n",
            "67/67 [==============================] - 36s 543ms/step - loss: 0.6365 - acc: 0.6667 - val_loss: 0.6365 - val_acc: 0.6667\n",
            "Epoch 63/100\n",
            "67/67 [==============================] - 36s 539ms/step - loss: 0.6365 - acc: 0.6667 - val_loss: 0.6365 - val_acc: 0.6667\n",
            "Epoch 64/100\n",
            "67/67 [==============================] - 36s 537ms/step - loss: 0.6365 - acc: 0.6667 - val_loss: 0.6365 - val_acc: 0.6667\n",
            "Epoch 65/100\n",
            "67/67 [==============================] - 36s 546ms/step - loss: 0.6365 - acc: 0.6667 - val_loss: 0.6365 - val_acc: 0.6667\n",
            "Epoch 66/100\n",
            "67/67 [==============================] - 37s 556ms/step - loss: 0.6365 - acc: 0.6667 - val_loss: 0.6365 - val_acc: 0.6667\n",
            "Epoch 67/100\n",
            "67/67 [==============================] - 36s 544ms/step - loss: 0.6365 - acc: 0.6667 - val_loss: 0.6365 - val_acc: 0.6667\n",
            "Epoch 68/100\n",
            "67/67 [==============================] - 37s 555ms/step - loss: 0.6365 - acc: 0.6667 - val_loss: 0.6365 - val_acc: 0.6667\n",
            "Epoch 69/100\n",
            "67/67 [==============================] - 38s 563ms/step - loss: 0.6365 - acc: 0.6667 - val_loss: 0.6365 - val_acc: 0.6667\n",
            "Epoch 70/100\n",
            "67/67 [==============================] - 37s 549ms/step - loss: 0.6365 - acc: 0.6667 - val_loss: 0.6365 - val_acc: 0.6667\n",
            "Epoch 71/100\n",
            "67/67 [==============================] - 36s 540ms/step - loss: 0.6365 - acc: 0.6667 - val_loss: 0.6365 - val_acc: 0.6667\n",
            "Epoch 72/100\n",
            "67/67 [==============================] - 36s 536ms/step - loss: 0.6365 - acc: 0.6667 - val_loss: 0.6365 - val_acc: 0.6667\n",
            "Epoch 73/100\n",
            "67/67 [==============================] - 36s 538ms/step - loss: 0.6365 - acc: 0.6667 - val_loss: 0.6365 - val_acc: 0.6667\n",
            "Epoch 74/100\n",
            "67/67 [==============================] - 36s 541ms/step - loss: 0.6365 - acc: 0.6667 - val_loss: 0.6365 - val_acc: 0.6667\n",
            "Epoch 75/100\n",
            "67/67 [==============================] - 36s 546ms/step - loss: 0.6365 - acc: 0.6667 - val_loss: 0.6365 - val_acc: 0.6667\n",
            "Epoch 76/100\n",
            "67/67 [==============================] - 36s 539ms/step - loss: 0.6365 - acc: 0.6667 - val_loss: 0.6365 - val_acc: 0.6667\n",
            "Epoch 77/100\n",
            "67/67 [==============================] - 36s 534ms/step - loss: 0.6365 - acc: 0.6667 - val_loss: 0.6365 - val_acc: 0.6667\n",
            "Epoch 78/100\n",
            "67/67 [==============================] - 36s 542ms/step - loss: 0.6365 - acc: 0.6667 - val_loss: 0.6365 - val_acc: 0.6667\n",
            "Epoch 79/100\n",
            "67/67 [==============================] - 36s 544ms/step - loss: 0.6365 - acc: 0.6667 - val_loss: 0.6365 - val_acc: 0.6667\n",
            "Epoch 80/100\n",
            "67/67 [==============================] - 37s 546ms/step - loss: 0.6365 - acc: 0.6667 - val_loss: 0.6365 - val_acc: 0.6667\n",
            "Epoch 81/100\n",
            "67/67 [==============================] - 36s 544ms/step - loss: 0.6365 - acc: 0.6667 - val_loss: 0.6365 - val_acc: 0.6667\n",
            "Epoch 82/100\n",
            "67/67 [==============================] - 36s 545ms/step - loss: 0.6365 - acc: 0.6667 - val_loss: 0.6365 - val_acc: 0.6667\n",
            "Epoch 83/100\n",
            "67/67 [==============================] - 36s 542ms/step - loss: 0.6365 - acc: 0.6667 - val_loss: 0.6365 - val_acc: 0.6667\n",
            "Epoch 84/100\n",
            "67/67 [==============================] - 36s 541ms/step - loss: 0.6365 - acc: 0.6667 - val_loss: 0.6365 - val_acc: 0.6667\n",
            "Epoch 85/100\n",
            "67/67 [==============================] - 36s 545ms/step - loss: 0.6365 - acc: 0.6667 - val_loss: 0.6365 - val_acc: 0.6667\n",
            "Epoch 86/100\n",
            "67/67 [==============================] - 36s 535ms/step - loss: 0.6365 - acc: 0.6667 - val_loss: 0.6365 - val_acc: 0.6667\n",
            "Epoch 87/100\n",
            "67/67 [==============================] - 36s 541ms/step - loss: 0.6365 - acc: 0.6667 - val_loss: 0.6365 - val_acc: 0.6667\n",
            "Epoch 88/100\n",
            "67/67 [==============================] - 37s 556ms/step - loss: 0.6365 - acc: 0.6667 - val_loss: 0.6365 - val_acc: 0.6667\n",
            "Epoch 89/100\n",
            "67/67 [==============================] - 37s 559ms/step - loss: 0.6365 - acc: 0.6667 - val_loss: 0.6365 - val_acc: 0.6667\n",
            "Epoch 90/100\n",
            "67/67 [==============================] - 37s 546ms/step - loss: 0.6365 - acc: 0.6667 - val_loss: 0.6365 - val_acc: 0.6667\n",
            "Epoch 91/100\n",
            "67/67 [==============================] - 36s 545ms/step - loss: 0.6365 - acc: 0.6667 - val_loss: 0.6365 - val_acc: 0.6667\n",
            "Epoch 92/100\n",
            "67/67 [==============================] - 36s 534ms/step - loss: 0.6365 - acc: 0.6667 - val_loss: 0.6365 - val_acc: 0.6667\n",
            "Epoch 93/100\n",
            "67/67 [==============================] - 36s 533ms/step - loss: 0.6365 - acc: 0.6667 - val_loss: 0.6365 - val_acc: 0.6667\n",
            "Epoch 94/100\n",
            "67/67 [==============================] - 36s 531ms/step - loss: 0.6365 - acc: 0.6667 - val_loss: 0.6365 - val_acc: 0.6667\n",
            "Epoch 95/100\n",
            "67/67 [==============================] - 35s 530ms/step - loss: 0.6365 - acc: 0.6667 - val_loss: 0.6365 - val_acc: 0.6667\n",
            "Epoch 96/100\n",
            "67/67 [==============================] - 35s 527ms/step - loss: 0.6365 - acc: 0.6667 - val_loss: 0.6365 - val_acc: 0.6667\n",
            "Epoch 97/100\n",
            "67/67 [==============================] - 35s 528ms/step - loss: 0.6365 - acc: 0.6667 - val_loss: 0.6365 - val_acc: 0.6667\n",
            "Epoch 98/100\n",
            "67/67 [==============================] - 36s 532ms/step - loss: 0.6365 - acc: 0.6667 - val_loss: 0.6365 - val_acc: 0.6667\n",
            "Epoch 99/100\n",
            "67/67 [==============================] - 36s 531ms/step - loss: 0.6365 - acc: 0.6667 - val_loss: 0.6365 - val_acc: 0.6667\n",
            "Epoch 100/100\n",
            "67/67 [==============================] - 35s 530ms/step - loss: 0.6365 - acc: 0.6667 - val_loss: 0.6365 - val_acc: 0.6667\n"
          ]
        }
      ]
    },
    {
      "cell_type": "code",
      "metadata": {
        "colab": {
          "base_uri": "https://localhost:8080/"
        },
        "id": "Q72hB3_aTfXh",
        "outputId": "3dc77b43-2f64-4bc1-dd78-86e1c8661aed"
      },
      "source": [
        "# TULIS KODE ANDA DISINI\n",
        "# Extraction Layer\n",
        "model2 = Sequential()\n",
        "\n",
        "model2.add(InputLayer(input_shape=[150, 150, 3]))\n",
        "model2.add(Conv2D(filters=32, kernel_size=3, strides=1, padding='same', activation='relu'))\n",
        "model2.add(BatchNormalization())\n",
        "model2.add(MaxPool2D(pool_size=2, padding='same'))\n",
        "model2.add(Conv2D(filters=64, kernel_size=3, strides=1, padding='same', activation='relu'))\n",
        "model2.add(BatchNormalization())\n",
        "model2.add(MaxPool2D(pool_size=2, padding='same'))\n",
        "model2.add(Conv2D(filters=128, kernel_size=3, strides=1, padding='same', activation='relu'))\n",
        "model2.add(BatchNormalization())\n",
        "model2.add(MaxPool2D(pool_size=2, padding='same'))\n",
        "model2.add(Dropout(0.25))\n",
        "model2.add(Flatten())\n",
        "\n",
        "# Fully Connected Layer\n",
        "model2.add(Dense(128, activation='relu'))\n",
        "model2.add(Dropout(0.25))\n",
        "model2.add(Dense(3, activation='softmax'))\n",
        "\n",
        "# Print model summary\n",
        "print(model2.summary())"
      ],
      "execution_count": 62,
      "outputs": [
        {
          "output_type": "stream",
          "name": "stdout",
          "text": [
            "Model: \"sequential_2\"\n",
            "_________________________________________________________________\n",
            " Layer (type)                Output Shape              Param #   \n",
            "=================================================================\n",
            " conv2d_4 (Conv2D)           (None, 150, 150, 32)      896       \n",
            "                                                                 \n",
            " batch_normalization (BatchN  (None, 150, 150, 32)     128       \n",
            " ormalization)                                                   \n",
            "                                                                 \n",
            " max_pooling2d (MaxPooling2D  (None, 75, 75, 32)       0         \n",
            " )                                                               \n",
            "                                                                 \n",
            " conv2d_5 (Conv2D)           (None, 75, 75, 64)        18496     \n",
            "                                                                 \n",
            " batch_normalization_1 (Batc  (None, 75, 75, 64)       256       \n",
            " hNormalization)                                                 \n",
            "                                                                 \n",
            " max_pooling2d_1 (MaxPooling  (None, 38, 38, 64)       0         \n",
            " 2D)                                                             \n",
            "                                                                 \n",
            " conv2d_6 (Conv2D)           (None, 38, 38, 128)       73856     \n",
            "                                                                 \n",
            " batch_normalization_2 (Batc  (None, 38, 38, 128)      512       \n",
            " hNormalization)                                                 \n",
            "                                                                 \n",
            " max_pooling2d_2 (MaxPooling  (None, 19, 19, 128)      0         \n",
            " 2D)                                                             \n",
            "                                                                 \n",
            " dropout (Dropout)           (None, 19, 19, 128)       0         \n",
            "                                                                 \n",
            " flatten_1 (Flatten)         (None, 46208)             0         \n",
            "                                                                 \n",
            " dense_2 (Dense)             (None, 128)               5914752   \n",
            "                                                                 \n",
            " dropout_1 (Dropout)         (None, 128)               0         \n",
            "                                                                 \n",
            " dense_3 (Dense)             (None, 3)                 387       \n",
            "                                                                 \n",
            "=================================================================\n",
            "Total params: 6,009,283\n",
            "Trainable params: 6,008,835\n",
            "Non-trainable params: 448\n",
            "_________________________________________________________________\n",
            "None\n"
          ]
        }
      ]
    },
    {
      "cell_type": "code",
      "metadata": {
        "colab": {
          "base_uri": "https://localhost:8080/"
        },
        "id": "5XbGcGtnT0Pi",
        "outputId": "3a829219-af81-41e4-dd39-577a0d6a69d8"
      },
      "source": [
        "# Compile model\n",
        "from tensorflow.keras.optimizers import Adam\n",
        "\n",
        "model2.compile(optimizer=Adam(lr=0.001), \n",
        "              loss='binary_crossentropy', \n",
        "              metrics=['acc'])"
      ],
      "execution_count": 63,
      "outputs": [
        {
          "output_type": "stream",
          "name": "stderr",
          "text": [
            "/usr/local/lib/python3.7/dist-packages/keras/optimizer_v2/adam.py:105: UserWarning: The `lr` argument is deprecated, use `learning_rate` instead.\n",
            "  super(Adam, self).__init__(name, **kwargs)\n"
          ]
        }
      ]
    },
    {
      "cell_type": "code",
      "metadata": {
        "colab": {
          "base_uri": "https://localhost:8080/"
        },
        "id": "YMOMxnAEUU0j",
        "outputId": "24b83536-d672-4556-aba2-c476cd99bf59"
      },
      "source": [
        "H = model2.fit_generator(train_generator, epochs = 100, validation_data = validation_generator)"
      ],
      "execution_count": 64,
      "outputs": [
        {
          "output_type": "stream",
          "name": "stderr",
          "text": [
            "/usr/local/lib/python3.7/dist-packages/ipykernel_launcher.py:1: UserWarning: `Model.fit_generator` is deprecated and will be removed in a future version. Please use `Model.fit`, which supports generators.\n",
            "  \"\"\"Entry point for launching an IPython kernel.\n"
          ]
        },
        {
          "output_type": "stream",
          "name": "stdout",
          "text": [
            "Epoch 1/100\n",
            "67/67 [==============================] - 41s 584ms/step - loss: 1.1436 - acc: 0.6726 - val_loss: 12.0436 - val_acc: 0.4651\n",
            "Epoch 2/100\n",
            "67/67 [==============================] - 38s 575ms/step - loss: 0.3821 - acc: 0.7285 - val_loss: 9.7774 - val_acc: 0.4651\n",
            "Epoch 3/100\n",
            "67/67 [==============================] - 38s 570ms/step - loss: 0.3264 - acc: 0.7495 - val_loss: 5.9656 - val_acc: 0.4651\n",
            "Epoch 4/100\n",
            "67/67 [==============================] - 38s 573ms/step - loss: 0.2815 - acc: 0.8060 - val_loss: 3.1277 - val_acc: 0.5197\n",
            "Epoch 5/100\n",
            "67/67 [==============================] - 38s 572ms/step - loss: 0.2428 - acc: 0.8223 - val_loss: 1.1361 - val_acc: 0.5240\n",
            "Epoch 6/100\n",
            "67/67 [==============================] - 38s 571ms/step - loss: 0.2085 - acc: 0.8643 - val_loss: 0.2963 - val_acc: 0.8362\n",
            "Epoch 7/100\n",
            "67/67 [==============================] - 38s 570ms/step - loss: 0.1935 - acc: 0.8783 - val_loss: 0.2655 - val_acc: 0.8275\n",
            "Epoch 8/100\n",
            "67/67 [==============================] - 38s 571ms/step - loss: 0.1888 - acc: 0.8745 - val_loss: 0.2668 - val_acc: 0.8188\n",
            "Epoch 9/100\n",
            "67/67 [==============================] - 38s 575ms/step - loss: 0.1492 - acc: 0.9151 - val_loss: 0.3093 - val_acc: 0.8122\n",
            "Epoch 10/100\n",
            "67/67 [==============================] - 38s 574ms/step - loss: 0.1210 - acc: 0.9188 - val_loss: 0.3200 - val_acc: 0.8144\n",
            "Epoch 11/100\n",
            "67/67 [==============================] - 38s 572ms/step - loss: 0.1105 - acc: 0.9296 - val_loss: 0.1277 - val_acc: 0.9170\n",
            "Epoch 12/100\n",
            "67/67 [==============================] - 38s 563ms/step - loss: 0.1194 - acc: 0.9319 - val_loss: 0.4965 - val_acc: 0.7555\n",
            "Epoch 13/100\n",
            "67/67 [==============================] - 38s 563ms/step - loss: 0.1279 - acc: 0.9263 - val_loss: 0.2623 - val_acc: 0.8515\n",
            "Epoch 14/100\n",
            "67/67 [==============================] - 38s 571ms/step - loss: 0.0879 - acc: 0.9482 - val_loss: 0.1524 - val_acc: 0.9061\n",
            "Epoch 15/100\n",
            "67/67 [==============================] - 38s 575ms/step - loss: 0.0827 - acc: 0.9450 - val_loss: 0.2274 - val_acc: 0.8952\n",
            "Epoch 16/100\n",
            "67/67 [==============================] - 38s 572ms/step - loss: 0.0866 - acc: 0.9482 - val_loss: 0.2476 - val_acc: 0.8668\n",
            "Epoch 17/100\n",
            "67/67 [==============================] - 37s 556ms/step - loss: 0.0698 - acc: 0.9562 - val_loss: 0.2205 - val_acc: 0.9061\n",
            "Epoch 18/100\n",
            "67/67 [==============================] - 37s 560ms/step - loss: 0.0518 - acc: 0.9655 - val_loss: 0.2746 - val_acc: 0.8930\n",
            "Epoch 19/100\n",
            "67/67 [==============================] - 37s 552ms/step - loss: 0.0529 - acc: 0.9674 - val_loss: 0.1216 - val_acc: 0.9498\n",
            "Epoch 20/100\n",
            "67/67 [==============================] - 37s 559ms/step - loss: 0.0435 - acc: 0.9739 - val_loss: 0.1464 - val_acc: 0.9170\n",
            "Epoch 21/100\n",
            "67/67 [==============================] - 37s 554ms/step - loss: 0.0529 - acc: 0.9706 - val_loss: 0.1159 - val_acc: 0.9432\n",
            "Epoch 22/100\n",
            "67/67 [==============================] - 36s 543ms/step - loss: 0.0510 - acc: 0.9660 - val_loss: 0.4759 - val_acc: 0.8515\n",
            "Epoch 23/100\n",
            "67/67 [==============================] - 36s 540ms/step - loss: 0.0475 - acc: 0.9697 - val_loss: 1.5273 - val_acc: 0.7052\n",
            "Epoch 24/100\n",
            "67/67 [==============================] - 36s 537ms/step - loss: 0.0503 - acc: 0.9636 - val_loss: 0.5261 - val_acc: 0.8188\n",
            "Epoch 25/100\n",
            "67/67 [==============================] - 36s 544ms/step - loss: 0.0350 - acc: 0.9771 - val_loss: 0.2440 - val_acc: 0.9039\n",
            "Epoch 26/100\n",
            "67/67 [==============================] - 37s 548ms/step - loss: 0.0537 - acc: 0.9664 - val_loss: 0.1285 - val_acc: 0.9367\n",
            "Epoch 27/100\n",
            "67/67 [==============================] - 36s 542ms/step - loss: 0.0348 - acc: 0.9739 - val_loss: 0.1405 - val_acc: 0.9214\n",
            "Epoch 28/100\n",
            "67/67 [==============================] - 36s 545ms/step - loss: 0.0371 - acc: 0.9748 - val_loss: 0.1594 - val_acc: 0.9258\n",
            "Epoch 29/100\n",
            "67/67 [==============================] - 36s 541ms/step - loss: 0.0399 - acc: 0.9795 - val_loss: 0.2267 - val_acc: 0.9236\n",
            "Epoch 30/100\n",
            "67/67 [==============================] - 37s 546ms/step - loss: 0.0321 - acc: 0.9804 - val_loss: 0.7658 - val_acc: 0.8515\n",
            "Epoch 31/100\n",
            "67/67 [==============================] - 36s 544ms/step - loss: 0.0509 - acc: 0.9660 - val_loss: 0.2856 - val_acc: 0.9017\n",
            "Epoch 32/100\n",
            "67/67 [==============================] - 37s 550ms/step - loss: 0.0455 - acc: 0.9701 - val_loss: 0.3951 - val_acc: 0.8996\n",
            "Epoch 33/100\n",
            "67/67 [==============================] - 37s 554ms/step - loss: 0.0447 - acc: 0.9767 - val_loss: 0.4073 - val_acc: 0.8799\n",
            "Epoch 34/100\n",
            "67/67 [==============================] - 37s 552ms/step - loss: 0.0672 - acc: 0.9608 - val_loss: 1.5037 - val_acc: 0.7424\n",
            "Epoch 35/100\n",
            "67/67 [==============================] - 36s 540ms/step - loss: 0.0368 - acc: 0.9771 - val_loss: 0.4477 - val_acc: 0.8755\n",
            "Epoch 36/100\n",
            "67/67 [==============================] - 36s 538ms/step - loss: 0.0419 - acc: 0.9725 - val_loss: 0.1600 - val_acc: 0.9301\n",
            "Epoch 37/100\n",
            "67/67 [==============================] - 36s 542ms/step - loss: 0.0304 - acc: 0.9790 - val_loss: 0.2365 - val_acc: 0.9301\n",
            "Epoch 38/100\n",
            "67/67 [==============================] - 37s 546ms/step - loss: 0.0371 - acc: 0.9832 - val_loss: 0.0976 - val_acc: 0.9410\n",
            "Epoch 39/100\n",
            "67/67 [==============================] - 37s 551ms/step - loss: 0.0273 - acc: 0.9795 - val_loss: 0.1469 - val_acc: 0.9279\n",
            "Epoch 40/100\n",
            "67/67 [==============================] - 37s 557ms/step - loss: 0.0241 - acc: 0.9837 - val_loss: 0.1332 - val_acc: 0.9170\n",
            "Epoch 41/100\n",
            "67/67 [==============================] - 37s 550ms/step - loss: 0.0160 - acc: 0.9902 - val_loss: 0.1021 - val_acc: 0.9563\n",
            "Epoch 42/100\n",
            "67/67 [==============================] - 36s 544ms/step - loss: 0.0188 - acc: 0.9874 - val_loss: 0.1348 - val_acc: 0.9563\n",
            "Epoch 43/100\n",
            "67/67 [==============================] - 36s 538ms/step - loss: 0.0218 - acc: 0.9837 - val_loss: 0.1889 - val_acc: 0.9410\n",
            "Epoch 44/100\n",
            "67/67 [==============================] - 37s 548ms/step - loss: 0.0165 - acc: 0.9893 - val_loss: 0.3270 - val_acc: 0.9345\n",
            "Epoch 45/100\n",
            "67/67 [==============================] - 36s 542ms/step - loss: 0.0235 - acc: 0.9837 - val_loss: 0.8318 - val_acc: 0.8428\n",
            "Epoch 46/100\n",
            "67/67 [==============================] - 36s 542ms/step - loss: 0.0360 - acc: 0.9790 - val_loss: 0.5378 - val_acc: 0.7795\n",
            "Epoch 47/100\n",
            "67/67 [==============================] - 36s 544ms/step - loss: 0.0372 - acc: 0.9795 - val_loss: 0.2816 - val_acc: 0.8930\n",
            "Epoch 48/100\n",
            "67/67 [==============================] - 36s 541ms/step - loss: 0.0259 - acc: 0.9832 - val_loss: 0.1377 - val_acc: 0.9476\n",
            "Epoch 49/100\n",
            "67/67 [==============================] - 36s 539ms/step - loss: 0.0219 - acc: 0.9860 - val_loss: 0.3850 - val_acc: 0.9039\n",
            "Epoch 50/100\n",
            "67/67 [==============================] - 36s 540ms/step - loss: 0.0205 - acc: 0.9874 - val_loss: 0.2410 - val_acc: 0.8930\n",
            "Epoch 51/100\n",
            "67/67 [==============================] - 36s 535ms/step - loss: 0.0390 - acc: 0.9795 - val_loss: 0.2367 - val_acc: 0.9258\n",
            "Epoch 52/100\n",
            "67/67 [==============================] - 36s 534ms/step - loss: 0.0231 - acc: 0.9855 - val_loss: 0.1320 - val_acc: 0.9563\n",
            "Epoch 53/100\n",
            "67/67 [==============================] - 36s 541ms/step - loss: 0.0321 - acc: 0.9851 - val_loss: 0.2884 - val_acc: 0.9236\n",
            "Epoch 54/100\n",
            "67/67 [==============================] - 36s 537ms/step - loss: 0.0187 - acc: 0.9860 - val_loss: 0.3914 - val_acc: 0.8974\n",
            "Epoch 55/100\n",
            "67/67 [==============================] - 35s 529ms/step - loss: 0.0201 - acc: 0.9860 - val_loss: 0.1436 - val_acc: 0.9498\n",
            "Epoch 56/100\n",
            "67/67 [==============================] - 36s 535ms/step - loss: 0.0219 - acc: 0.9883 - val_loss: 0.2827 - val_acc: 0.9345\n",
            "Epoch 57/100\n",
            "67/67 [==============================] - 36s 534ms/step - loss: 0.0155 - acc: 0.9902 - val_loss: 0.2133 - val_acc: 0.9498\n",
            "Epoch 58/100\n",
            "67/67 [==============================] - 36s 533ms/step - loss: 0.0215 - acc: 0.9865 - val_loss: 0.3240 - val_acc: 0.9148\n",
            "Epoch 59/100\n",
            "67/67 [==============================] - 36s 534ms/step - loss: 0.0255 - acc: 0.9846 - val_loss: 0.4568 - val_acc: 0.8755\n",
            "Epoch 60/100\n",
            "67/67 [==============================] - 35s 529ms/step - loss: 0.0235 - acc: 0.9860 - val_loss: 0.1838 - val_acc: 0.9345\n",
            "Epoch 61/100\n",
            "67/67 [==============================] - 35s 526ms/step - loss: 0.0169 - acc: 0.9879 - val_loss: 0.5111 - val_acc: 0.8559\n",
            "Epoch 62/100\n",
            "67/67 [==============================] - 36s 544ms/step - loss: 0.0152 - acc: 0.9893 - val_loss: 0.1591 - val_acc: 0.9367\n",
            "Epoch 63/100\n",
            "67/67 [==============================] - 37s 554ms/step - loss: 0.0502 - acc: 0.9823 - val_loss: 2.8034 - val_acc: 0.7576\n",
            "Epoch 64/100\n",
            "67/67 [==============================] - 36s 543ms/step - loss: 0.0587 - acc: 0.9743 - val_loss: 7.2696 - val_acc: 0.6092\n",
            "Epoch 65/100\n",
            "67/67 [==============================] - 36s 535ms/step - loss: 0.0396 - acc: 0.9795 - val_loss: 0.4631 - val_acc: 0.8537\n",
            "Epoch 66/100\n",
            "67/67 [==============================] - 36s 533ms/step - loss: 0.0236 - acc: 0.9841 - val_loss: 0.2878 - val_acc: 0.9083\n",
            "Epoch 67/100\n",
            "67/67 [==============================] - 36s 532ms/step - loss: 0.0240 - acc: 0.9837 - val_loss: 0.2654 - val_acc: 0.9039\n",
            "Epoch 68/100\n",
            "67/67 [==============================] - 36s 534ms/step - loss: 0.0153 - acc: 0.9911 - val_loss: 0.1271 - val_acc: 0.9454\n",
            "Epoch 69/100\n",
            "67/67 [==============================] - 36s 541ms/step - loss: 0.0152 - acc: 0.9897 - val_loss: 4.2390 - val_acc: 0.6310\n",
            "Epoch 70/100\n",
            "67/67 [==============================] - 36s 539ms/step - loss: 0.0215 - acc: 0.9865 - val_loss: 0.1222 - val_acc: 0.9607\n",
            "Epoch 71/100\n",
            "67/67 [==============================] - 36s 533ms/step - loss: 0.0151 - acc: 0.9907 - val_loss: 0.1632 - val_acc: 0.9607\n",
            "Epoch 72/100\n",
            "67/67 [==============================] - 35s 528ms/step - loss: 0.0157 - acc: 0.9902 - val_loss: 0.5825 - val_acc: 0.9148\n",
            "Epoch 73/100\n",
            "67/67 [==============================] - 36s 531ms/step - loss: 0.0238 - acc: 0.9911 - val_loss: 0.3536 - val_acc: 0.9039\n",
            "Epoch 74/100\n",
            "67/67 [==============================] - 36s 533ms/step - loss: 0.0267 - acc: 0.9883 - val_loss: 0.3932 - val_acc: 0.9214\n",
            "Epoch 75/100\n",
            "67/67 [==============================] - 36s 534ms/step - loss: 0.0221 - acc: 0.9860 - val_loss: 1.1289 - val_acc: 0.8144\n",
            "Epoch 76/100\n",
            "67/67 [==============================] - 36s 534ms/step - loss: 0.0288 - acc: 0.9860 - val_loss: 0.3264 - val_acc: 0.8843\n",
            "Epoch 77/100\n",
            "67/67 [==============================] - 35s 527ms/step - loss: 0.0190 - acc: 0.9883 - val_loss: 0.9734 - val_acc: 0.8362\n",
            "Epoch 78/100\n",
            "67/67 [==============================] - 36s 533ms/step - loss: 0.0182 - acc: 0.9921 - val_loss: 0.1840 - val_acc: 0.9454\n",
            "Epoch 79/100\n",
            "67/67 [==============================] - 36s 538ms/step - loss: 0.0169 - acc: 0.9939 - val_loss: 0.1656 - val_acc: 0.9541\n",
            "Epoch 80/100\n",
            "67/67 [==============================] - 36s 540ms/step - loss: 0.0251 - acc: 0.9921 - val_loss: 0.0957 - val_acc: 0.9585\n",
            "Epoch 81/100\n",
            "67/67 [==============================] - 36s 539ms/step - loss: 0.0164 - acc: 0.9907 - val_loss: 0.7473 - val_acc: 0.8624\n",
            "Epoch 82/100\n",
            "67/67 [==============================] - 36s 543ms/step - loss: 0.0122 - acc: 0.9907 - val_loss: 0.1745 - val_acc: 0.9454\n",
            "Epoch 83/100\n",
            "67/67 [==============================] - 37s 549ms/step - loss: 0.0086 - acc: 0.9935 - val_loss: 0.1076 - val_acc: 0.9629\n",
            "Epoch 84/100\n",
            "67/67 [==============================] - 37s 558ms/step - loss: 0.0092 - acc: 0.9925 - val_loss: 0.2296 - val_acc: 0.9454\n",
            "Epoch 85/100\n",
            "67/67 [==============================] - 36s 545ms/step - loss: 0.0092 - acc: 0.9935 - val_loss: 0.1245 - val_acc: 0.9607\n",
            "Epoch 86/100\n",
            "67/67 [==============================] - 37s 551ms/step - loss: 0.0091 - acc: 0.9935 - val_loss: 0.1399 - val_acc: 0.9541\n",
            "Epoch 87/100\n",
            "67/67 [==============================] - 37s 550ms/step - loss: 0.0101 - acc: 0.9935 - val_loss: 0.1090 - val_acc: 0.9651\n",
            "Epoch 88/100\n",
            "67/67 [==============================] - 37s 554ms/step - loss: 0.0087 - acc: 0.9949 - val_loss: 0.1544 - val_acc: 0.9629\n",
            "Epoch 89/100\n",
            "67/67 [==============================] - 36s 539ms/step - loss: 0.0067 - acc: 0.9963 - val_loss: 0.1791 - val_acc: 0.9563\n",
            "Epoch 90/100\n",
            "67/67 [==============================] - 37s 546ms/step - loss: 0.0105 - acc: 0.9916 - val_loss: 0.1755 - val_acc: 0.9607\n",
            "Epoch 91/100\n",
            "67/67 [==============================] - 36s 543ms/step - loss: 0.0201 - acc: 0.9907 - val_loss: 0.5042 - val_acc: 0.8865\n",
            "Epoch 92/100\n",
            "67/67 [==============================] - 37s 550ms/step - loss: 0.0190 - acc: 0.9939 - val_loss: 0.4370 - val_acc: 0.9061\n",
            "Epoch 93/100\n",
            "67/67 [==============================] - 38s 562ms/step - loss: 0.0195 - acc: 0.9925 - val_loss: 0.1442 - val_acc: 0.9629\n",
            "Epoch 94/100\n",
            "67/67 [==============================] - 38s 566ms/step - loss: 0.0213 - acc: 0.9921 - val_loss: 1.4853 - val_acc: 0.8493\n",
            "Epoch 95/100\n",
            "67/67 [==============================] - 37s 558ms/step - loss: 0.0461 - acc: 0.9771 - val_loss: 0.2260 - val_acc: 0.9061\n",
            "Epoch 96/100\n",
            "67/67 [==============================] - 38s 564ms/step - loss: 0.0187 - acc: 0.9874 - val_loss: 0.1889 - val_acc: 0.9432\n",
            "Epoch 97/100\n",
            "67/67 [==============================] - 38s 563ms/step - loss: 0.0171 - acc: 0.9902 - val_loss: 0.2179 - val_acc: 0.9367\n",
            "Epoch 98/100\n",
            "67/67 [==============================] - 37s 556ms/step - loss: 0.0133 - acc: 0.9939 - val_loss: 0.3446 - val_acc: 0.9301\n",
            "Epoch 99/100\n",
            "67/67 [==============================] - 37s 556ms/step - loss: 0.0105 - acc: 0.9935 - val_loss: 0.2344 - val_acc: 0.9389\n",
            "Epoch 100/100\n",
            "67/67 [==============================] - 38s 562ms/step - loss: 0.0082 - acc: 0.9953 - val_loss: 0.3361 - val_acc: 0.9279\n"
          ]
        }
      ]
    },
    {
      "cell_type": "code",
      "metadata": {
        "colab": {
          "base_uri": "https://localhost:8080/",
          "height": 581
        },
        "id": "HOF0cJsAUZtf",
        "outputId": "a2a8a19c-746a-431c-839e-8ca9870c0713"
      },
      "source": [
        "plt.style.use(\"ggplot\")\n",
        "plt.figure()\n",
        "plt.plot(np.arange(0, 100), H.history[\"loss\"], label=\"train_loss\")\n",
        "plt.plot(np.arange(0, 100), H.history[\"val_loss\"], label=\"val_loss\")\n",
        "plt.title(\"Loss Plot\")\n",
        "plt.xlabel(\"Epoch #\")\n",
        "plt.ylabel(\"Loss\")\n",
        "plt.legend()\n",
        "plt.show()\n",
        "\n",
        "plt.figure()\n",
        "plt.plot(np.arange(0, 100), H.history[\"acc\"], label=\"train_acc\")\n",
        "plt.plot(np.arange(0, 100), H.history[\"val_acc\"], label=\"val_acc\")\n",
        "plt.title(\"Accuracy Plot\")\n",
        "plt.xlabel(\"Epoch #\")\n",
        "plt.ylabel(\"Acc\")\n",
        "plt.legend()\n",
        "plt.show()"
      ],
      "execution_count": 65,
      "outputs": [
        {
          "output_type": "display_data",
          "data": {
            "image/png": "[encoded data removed]",
            "text/plain": [
              "<Figure size 432x288 with 1 Axes>"
            ]
          },
          "metadata": {}
        },
        {
          "output_type": "display_data",
          "data": {
            "image/png": "[encoded data removed]",
            "text/plain": [
              "<Figure size 432x288 with 1 Axes>"
            ]
          },
          "metadata": {}
        }
      ]
    },
    {
      "cell_type": "code",
      "metadata": {
        "colab": {
          "base_uri": "https://localhost:8080/"
        },
        "id": "ZMv0GtHQUeAq",
        "outputId": "4bd1ba2a-5921-4dc7-a469-8f1ceedcc564"
      },
      "source": [
        "ypred = model.predict(test_generator)\n",
        "predictions = np.argmax(ypred, axis = 1)\n",
        "print(classification_report(test_generator.classes,predictions))"
      ],
      "execution_count": 66,
      "outputs": [
        {
          "output_type": "stream",
          "name": "stdout",
          "text": [
            "              precision    recall  f1-score   support\n",
            "\n",
            "           0       0.47      1.00      0.64       215\n",
            "           1       0.00      0.00      0.00       107\n",
            "           2       0.00      0.00      0.00       140\n",
            "\n",
            "    accuracy                           0.47       462\n",
            "   macro avg       0.16      0.33      0.21       462\n",
            "weighted avg       0.22      0.47      0.30       462\n",
            "\n"
          ]
        },
        {
          "output_type": "stream",
          "name": "stderr",
          "text": [
            "/usr/local/lib/python3.7/dist-packages/sklearn/metrics/_classification.py:1272: UndefinedMetricWarning: Precision and F-score are ill-defined and being set to 0.0 in labels with no predicted samples. Use `zero_division` parameter to control this behavior.\n",
            "  _warn_prf(average, modifier, msg_start, len(result))\n"
          ]
        }
      ]
    },
    {
      "cell_type": "code",
      "metadata": {
        "id": "oW1FLUHBUkzY"
      },
      "source": [
        "model.save('model.h5')"
      ],
      "execution_count": 67,
      "outputs": []
    }
  ]
}